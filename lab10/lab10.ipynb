{
 "cells": [
  {
   "cell_type": "markdown",
   "metadata": {},
   "source": [
    "# Exploring Identifiers"
   ]
  },
  {
   "cell_type": "markdown",
   "metadata": {},
   "source": [
    "Identifiers and identifier systems play an important role in data management and curation. They are also central to the FAIR Guiding Principles for scientific data and software management. In this exercise, we'll explore a few examples of commonly used identifiers and identifier systems including:\n",
    "\n",
    "* Universally unique identifiers (UUID)\n",
    "* Internet and web standard identifiers including Uniform Resource Identifiers (URIs), Uniform Resource Names (URNs), and Uniform Resource Locators (URLs)\n",
    "* URL redirection services including Persistent URLs (PURLs)\n",
    "* Authority-based persistent identifiers including Digital Object Identifiers (DOIs)\n",
    "* Content-based identification using hashes\n",
    "\n",
    "Identifiers and identifier systems are both technical and social. The goal of this exercise is to explore the techinical side of identifiers--i.e., interacting with identifiers and identifier systems through associated software and services."
   ]
  },
  {
   "cell_type": "markdown",
   "metadata": {},
   "source": [
    "## Universally Unique Identifiers (UUIDs)\n",
    "\n",
    "The first identifier we'll look at is the Universally Unique Identifier (UUID). Defined in [IETF RFC 4122](https://datatracker.ietf.org/doc/html/rfc4122.html), UUIDs (also sometimes called Globally Unique Identifiers or GUIDs) are fixed-sized identifiers that are guaranteed to be unique (there is a very low likelihood of collision). \n",
    "\n",
    "UUIDs are generated via a set of algorithms and rely on a combination of current time, network hardware identifiers, sequence numbers, names, and hashes. The RFC defines four different algorithms:\n",
    "* Version 1: Based on a host ID (e.g., hardware address), current time, and sequence number\n",
    "* Version 3: Based on the MD5 hash of a namespace (e.g., DNS) and a name (e.g., \"domain.org\")\n",
    "* Version 4: Host ID, time, and sequence number are randomly generated values\n",
    "* Version 5: Based on SHA-1 hash of a namespace (e.g., DNS) and a name (e.g., \"domain.org\")\n",
    "\n",
    "In Python, RFC 4122 UUIDs are implemented in the built-in [uuid](https://docs.python.org/3/library/uuid.html) library."
   ]
  },
  {
   "cell_type": "code",
   "execution_count": 1,
   "metadata": {},
   "outputs": [],
   "source": [
    "import uuid"
   ]
  },
  {
   "cell_type": "markdown",
   "metadata": {},
   "source": [
    "By default, UUID version 1 generates an identifier based on the [MAC address](https://en.wikipedia.org/wiki/MAC_address) of a network interface, the current time, and a sequence number. You can use the `getnode()` method and compare the returned value to your network interface MAC address (via `ifconfig` or similar)."
   ]
  },
  {
   "cell_type": "code",
   "execution_count": 2,
   "metadata": {},
   "outputs": [
    {
     "name": "stdout",
     "output_type": "stream",
     "text": [
      "0x521126e05ce1\n"
     ]
    }
   ],
   "source": [
    "print(hex(uuid.getnode()))"
   ]
  },
  {
   "cell_type": "markdown",
   "metadata": {},
   "source": [
    "Each time we generated a V1 or V4 UUID, we get a new value:"
   ]
  },
  {
   "cell_type": "code",
   "execution_count": 3,
   "metadata": {},
   "outputs": [
    {
     "name": "stdout",
     "output_type": "stream",
     "text": [
      "b81da908-1620-11f0-9c95-521126e05ce1\n",
      "b81db7ea-1620-11f0-9c95-521126e05ce1\n",
      "02dba7ee-9ac2-41fd-bb44-ed7d3fea83bc\n",
      "795f36f4-5602-4cb6-8b30-c609b5689d2e\n"
     ]
    }
   ],
   "source": [
    "print(uuid.uuid1()) \n",
    "\n",
    "print(uuid.uuid1())\n",
    "\n",
    "print(uuid.uuid4())\n",
    "\n",
    "print(uuid.uuid4())"
   ]
  },
  {
   "cell_type": "markdown",
   "metadata": {},
   "source": [
    "UUID version 3 and 5 generate the UUID based on a specified namespace and name. Unlike version 1 and 4 UUIDs, version 3 and 5 UUIDs are deterministic. Given the same set of input values, you will get the same UUID.\n",
    "\n",
    "Supported namespaces include domains, URLs, ISO object IDs, and X.500 distinguished names."
   ]
  },
  {
   "cell_type": "code",
   "execution_count": 4,
   "metadata": {},
   "outputs": [
    {
     "name": "stdout",
     "output_type": "stream",
     "text": [
      "7f641484-d6c7-3402-9054-daa5b550e1f6\n",
      "7f641484-d6c7-3402-9054-daa5b550e1f6\n",
      "d74714bd-ed7f-3570-8601-70ad5e613524\n",
      "d74714bd-ed7f-3570-8601-70ad5e613524\n"
     ]
    }
   ],
   "source": [
    "print(uuid.uuid3(uuid.NAMESPACE_DNS, 'illinois.edu'))\n",
    "\n",
    "print(uuid.uuid3(uuid.NAMESPACE_DNS, 'illinois.edu'))\n",
    "\n",
    "print(uuid.uuid3(uuid.NAMESPACE_URL, 'https://ischool.illinois.edu/'))\n",
    "\n",
    "print(uuid.uuid3(uuid.NAMESPACE_URL, 'https://ischool.illinois.edu/'))"
   ]
  },
  {
   "cell_type": "markdown",
   "metadata": {},
   "source": [
    "\n",
    "Unlike a simple sequence or accession number, UUIDs are intended to be globally unique across systems and time. As we will see below, they are also part of a set of core Web standards. \n",
    "\n",
    "UUIDs are also URNs (discussed below). A central drawback of UUIDs is that they are not globally resolvable. "
   ]
  },
  {
   "cell_type": "markdown",
   "metadata": {},
   "source": [
    "## Uniform Resource Identifiers (URI)\n",
    "\n",
    "Next, we'll look at a class of identifiers based on a set of Web standards. \n",
    "\n",
    "Uniform Resource Identifier (URI) is an internet standard that defines a generic syntax for the creation of Web-based identifiers (see [RFC 3896](https://datatracker.ietf.org/doc/html/rfc3986).  URIs are defined as a compact sequence of characters used to identify abstract ot physical resources. URIs can be classified as a locator, a name, or both. Below are examples of commonly used URI schemes:\n",
    "\n",
    "```\n",
    "https://datatracker.ietf.org/doc/html/rfc3986\n",
    "mailto:john.doe@email.com\n",
    "urn:isbn:006251587X\n",
    "```\n",
    "\n",
    "URIs describe both Uniform Resource Locators (URLs), commonly thought of as web addresses and Uniform Resource Names (URNs). URLs can be used to both identify (name) and locate a resource on a network while URNs are used only for naming.\n",
    "\n",
    "URIs are defined by their `schemes`, which are registered with [IANA](https://www.iana.org/assignments/uri-schemes/uri-schemes.xhtml). Schemes of interest to us include:\n",
    "* `http` and `https`: Hypertext Transfer Protocol\n",
    "* `urn`: Uniform Resource Name\n",
    "* `doi`: DOI System (DOIs are generally represented as URLs, but have their own URI scheme)\n",
    "\n",
    "In this section, we'll look at examples of URIs--both URNs and URLs--in the context of data curation."
   ]
  },
  {
   "cell_type": "markdown",
   "metadata": {},
   "source": [
    "### Uniform Resource Name (URN)\n",
    "\n",
    "Defined in [IETF RFC 2141](https://datatracker.ietf.org/doc/html/rfc2141), URNs were originally intended to be \"persistent, location-indepenent resource identifiers\" within specific namespaces. Official namespaces are managed by the [Internet Assigned Numbers Authority](https://www.iana.org/assignments/urn-namespaces/urn-namespaces.xhtml). \n",
    "\n",
    "Namespaces of interest to us include:\n",
    "* `uuid`: [Universally Unique Identifiers](https://datatracker.ietf.org/doc/draft-ietf-uuidrev-rfc4122bis/14/) \n",
    "* `doi`: [Digital Object Identifer](https://www.iana.org/assignments/urn-formal/doi) (more below)\n",
    "* `isbn`: [International Standard Book Number](https://www.iana.org/assignments/urn-formal/isbn)"
   ]
  },
  {
   "cell_type": "markdown",
   "metadata": {},
   "source": [
    "UUIDs, discussed above, are defined within the `uuid` URN namespace.  We can easily format our generated UUID as a URN as follows:"
   ]
  },
  {
   "cell_type": "code",
   "execution_count": 5,
   "metadata": {},
   "outputs": [
    {
     "data": {
      "text/plain": [
       "'urn:uuid:948b1112-e277-46a6-8ab4-8fd5f93d645b'"
      ]
     },
     "execution_count": 5,
     "metadata": {},
     "output_type": "execute_result"
    }
   ],
   "source": [
    "uuid.uuid4().urn"
   ]
  },
  {
   "cell_type": "markdown",
   "metadata": {},
   "source": [
    "By formatting the UUID as a URN, users that encounter these values at least know that they are UUIDs and not some other type of identifier."
   ]
  },
  {
   "cell_type": "markdown",
   "metadata": {},
   "source": [
    "In research data management, UUIDs are often used as identifiers for datasets and items within datasets. For example, [Metacat](https://nceas.github.io/metacatui/), scientific data repository software used by the DataONE network, uses UUIDs at multiple levels.\n",
    "\n",
    "Explore the dataset https://arcticdata.io/catalog/view/doi:10.18739/A20Z70Z1H\n",
    "* Note that the it has been assigned UUID `urn:uuid:23d7c5c2-e695-4aae-97c9-e84fa41368ba`\n",
    "* Look at the file `CMDL_fluxes_data_readme.csv` and note that it has UUID `urn:uuid:988f6846-5378-45d2-9a15-8db398ea2d4a`\n",
    "\n",
    "(For more information see [Identifiers in DataONE](https://releases.dataone.org/online/api-documentation-v2.0.1/design/PIDs.html)).\n",
    "\n",
    "An important detail about UUIDs (and URNs in general, more below) is that they are not globally resolvable. There is no global service one can use to look up all assigned URNs. DataONE provides its own resolution service must be used to translate the UUID to something that can be accessed.\n",
    "\n",
    "The [Data Documentation Initiative (DDI)](https://ddialliance.org/) is an international standard for social, behavioral, and economics research data. DDI has recently proposed a [URN namespace for DDI](https://www.rfc-editor.org/rfc/rfc9517.html). DDI 3.3 includes support for assigning URNs to a variety of resources including variables, survey question items, controlled vocabulary terms, etc. "
   ]
  },
  {
   "cell_type": "markdown",
   "metadata": {},
   "source": [
    "### Uniform Resource Locator (URL)\n",
    "\n",
    "Uniform Resource Locators (URLs)--or web addresses--are compact strings used to identify and locate resources available via the Internet. URLs are defined by a scheme (e.g., `https`) followed by scheme-specific information. In this exercise, we are primarily concerned with HTTP(S) URLs, which take the general form:\n",
    "\n",
    "```\n",
    "http(s)://<host>:<port>/<path>?<query>#<fragment>\n",
    "```"
   ]
  },
  {
   "cell_type": "markdown",
   "metadata": {},
   "source": [
    "We can use Python's `urllib` to illustrate the differences between URNs, URLs, and other types of URIs, in this case a DOI represented as a URI. A key distinction between these two is the `netloc` value. As discussed above, URNs have no network location and are not resolvable. Network locations (host and port) are central to URLs."
   ]
  },
  {
   "cell_type": "code",
   "execution_count": 6,
   "metadata": {},
   "outputs": [
    {
     "name": "stdout",
     "output_type": "stream",
     "text": [
      "ParseResult(scheme='urn', netloc='', path='uuid:23d7c5c2-e695-4aae-97c9-e84fa41368ba', params='', query='', fragment='')\n",
      "ParseResult(scheme='https', netloc='arcticdata.io', path='/catalog/view/doi:10.18739/A20Z70Z1H', params='', query='', fragment='')\n"
     ]
    }
   ],
   "source": [
    "from urllib.parse import urlparse\n",
    "\n",
    "# Use the urlparse() method to parse each of the following and print it\n",
    "print(urlparse(\"urn:uuid:23d7c5c2-e695-4aae-97c9-e84fa41368ba\"))\n",
    "print(urlparse(\"https://arcticdata.io/catalog/view/doi:10.18739/A20Z70Z1H\"))"
   ]
  },
  {
   "cell_type": "markdown",
   "metadata": {},
   "source": [
    "The URL includes a network location (host `arcticdata.io` with default HTTPS port 443) that can be used to actually locate the resource with the specified URL, in this case the landing page for a dataset.\n",
    "\n",
    "Unlike URLs, URNs require an external resolution service. DataONE operates a separate resolver accessible via the URL `https://cn.dataone.org/cn/v2/resolve/`.\n",
    "\n",
    "In the next cell, we'll use the `requests` package to resolve the URN of the dataset."
   ]
  },
  {
   "cell_type": "code",
   "execution_count": 7,
   "metadata": {},
   "outputs": [
    {
     "data": {
      "text/html": [
       "<style>pre { line-height: 125%; }\n",
       "td.linenos .normal { color: inherit; background-color: transparent; padding-left: 5px; padding-right: 5px; }\n",
       "span.linenos { color: inherit; background-color: transparent; padding-left: 5px; padding-right: 5px; }\n",
       "td.linenos .special { color: #000000; background-color: #ffffc0; padding-left: 5px; padding-right: 5px; }\n",
       "span.linenos.special { color: #000000; background-color: #ffffc0; padding-left: 5px; padding-right: 5px; }\n",
       ".output_html .hll { background-color: #ffffcc }\n",
       ".output_html { background: #f8f8f8; }\n",
       ".output_html .c { color: #3D7B7B; font-style: italic } /* Comment */\n",
       ".output_html .err { border: 1px solid #F00 } /* Error */\n",
       ".output_html .k { color: #008000; font-weight: bold } /* Keyword */\n",
       ".output_html .o { color: #666 } /* Operator */\n",
       ".output_html .ch { color: #3D7B7B; font-style: italic } /* Comment.Hashbang */\n",
       ".output_html .cm { color: #3D7B7B; font-style: italic } /* Comment.Multiline */\n",
       ".output_html .cp { color: #9C6500 } /* Comment.Preproc */\n",
       ".output_html .cpf { color: #3D7B7B; font-style: italic } /* Comment.PreprocFile */\n",
       ".output_html .c1 { color: #3D7B7B; font-style: italic } /* Comment.Single */\n",
       ".output_html .cs { color: #3D7B7B; font-style: italic } /* Comment.Special */\n",
       ".output_html .gd { color: #A00000 } /* Generic.Deleted */\n",
       ".output_html .ge { font-style: italic } /* Generic.Emph */\n",
       ".output_html .ges { font-weight: bold; font-style: italic } /* Generic.EmphStrong */\n",
       ".output_html .gr { color: #E40000 } /* Generic.Error */\n",
       ".output_html .gh { color: #000080; font-weight: bold } /* Generic.Heading */\n",
       ".output_html .gi { color: #008400 } /* Generic.Inserted */\n",
       ".output_html .go { color: #717171 } /* Generic.Output */\n",
       ".output_html .gp { color: #000080; font-weight: bold } /* Generic.Prompt */\n",
       ".output_html .gs { font-weight: bold } /* Generic.Strong */\n",
       ".output_html .gu { color: #800080; font-weight: bold } /* Generic.Subheading */\n",
       ".output_html .gt { color: #04D } /* Generic.Traceback */\n",
       ".output_html .kc { color: #008000; font-weight: bold } /* Keyword.Constant */\n",
       ".output_html .kd { color: #008000; font-weight: bold } /* Keyword.Declaration */\n",
       ".output_html .kn { color: #008000; font-weight: bold } /* Keyword.Namespace */\n",
       ".output_html .kp { color: #008000 } /* Keyword.Pseudo */\n",
       ".output_html .kr { color: #008000; font-weight: bold } /* Keyword.Reserved */\n",
       ".output_html .kt { color: #B00040 } /* Keyword.Type */\n",
       ".output_html .m { color: #666 } /* Literal.Number */\n",
       ".output_html .s { color: #BA2121 } /* Literal.String */\n",
       ".output_html .na { color: #687822 } /* Name.Attribute */\n",
       ".output_html .nb { color: #008000 } /* Name.Builtin */\n",
       ".output_html .nc { color: #00F; font-weight: bold } /* Name.Class */\n",
       ".output_html .no { color: #800 } /* Name.Constant */\n",
       ".output_html .nd { color: #A2F } /* Name.Decorator */\n",
       ".output_html .ni { color: #717171; font-weight: bold } /* Name.Entity */\n",
       ".output_html .ne { color: #CB3F38; font-weight: bold } /* Name.Exception */\n",
       ".output_html .nf { color: #00F } /* Name.Function */\n",
       ".output_html .nl { color: #767600 } /* Name.Label */\n",
       ".output_html .nn { color: #00F; font-weight: bold } /* Name.Namespace */\n",
       ".output_html .nt { color: #008000; font-weight: bold } /* Name.Tag */\n",
       ".output_html .nv { color: #19177C } /* Name.Variable */\n",
       ".output_html .ow { color: #A2F; font-weight: bold } /* Operator.Word */\n",
       ".output_html .w { color: #BBB } /* Text.Whitespace */\n",
       ".output_html .mb { color: #666 } /* Literal.Number.Bin */\n",
       ".output_html .mf { color: #666 } /* Literal.Number.Float */\n",
       ".output_html .mh { color: #666 } /* Literal.Number.Hex */\n",
       ".output_html .mi { color: #666 } /* Literal.Number.Integer */\n",
       ".output_html .mo { color: #666 } /* Literal.Number.Oct */\n",
       ".output_html .sa { color: #BA2121 } /* Literal.String.Affix */\n",
       ".output_html .sb { color: #BA2121 } /* Literal.String.Backtick */\n",
       ".output_html .sc { color: #BA2121 } /* Literal.String.Char */\n",
       ".output_html .dl { color: #BA2121 } /* Literal.String.Delimiter */\n",
       ".output_html .sd { color: #BA2121; font-style: italic } /* Literal.String.Doc */\n",
       ".output_html .s2 { color: #BA2121 } /* Literal.String.Double */\n",
       ".output_html .se { color: #AA5D1F; font-weight: bold } /* Literal.String.Escape */\n",
       ".output_html .sh { color: #BA2121 } /* Literal.String.Heredoc */\n",
       ".output_html .si { color: #A45A77; font-weight: bold } /* Literal.String.Interpol */\n",
       ".output_html .sx { color: #008000 } /* Literal.String.Other */\n",
       ".output_html .sr { color: #A45A77 } /* Literal.String.Regex */\n",
       ".output_html .s1 { color: #BA2121 } /* Literal.String.Single */\n",
       ".output_html .ss { color: #19177C } /* Literal.String.Symbol */\n",
       ".output_html .bp { color: #008000 } /* Name.Builtin.Pseudo */\n",
       ".output_html .fm { color: #00F } /* Name.Function.Magic */\n",
       ".output_html .vc { color: #19177C } /* Name.Variable.Class */\n",
       ".output_html .vg { color: #19177C } /* Name.Variable.Global */\n",
       ".output_html .vi { color: #19177C } /* Name.Variable.Instance */\n",
       ".output_html .vm { color: #19177C } /* Name.Variable.Magic */\n",
       ".output_html .il { color: #666 } /* Literal.Number.Integer.Long */</style><div class=\"highlight\"><pre><span></span><span class=\"n\">file_info</span><span class=\"p\">,</span><span class=\"n\">filename</span><span class=\"p\">,</span><span class=\"n\">notes</span><span class=\"p\">,</span><span class=\"n\">units</span>\n",
       "<span class=\"p\">,</span><span class=\"nc\">date</span><span class=\"p\">,,</span><span class=\"o\">[</span><span class=\"n\">yyyy-mm-dd</span><span class=\"o\">]</span>\n",
       "<span class=\"p\">,</span><span class=\"nc\">time</span><span class=\"p\">,,</span><span class=\"o\">[</span><span class=\"n\">HH:MM</span><span class=\"o\">]</span>\n",
       "<span class=\"p\">,</span><span class=\"n\">DOY</span><span class=\"p\">,</span><span class=\"n\">Julian</span><span class=\"w\"> </span><span class=\"nf\">day</span><span class=\"p\">,</span><span class=\"o\">[</span><span class=\"n\">ddd.ddd</span><span class=\"o\">]</span>\n",
       "<span class=\"p\">,</span><span class=\"n\">daytime</span><span class=\"p\">,,</span><span class=\"o\">[</span><span class=\"n\">1=daytime</span><span class=\"o\">]</span>\n",
       "<span class=\"n\">corrected_fluxes_and_quality_flags</span><span class=\"p\">,</span><span class=\"n\">H</span><span class=\"p\">,</span><span class=\"n\">sensible</span><span class=\"w\"> </span><span class=\"n\">heat</span><span class=\"p\">,</span><span class=\"o\">[</span><span class=\"n\">W+1m-2</span><span class=\"o\">]</span>\n",
       "<span class=\"p\">,</span><span class=\"n\">qc_H</span><span class=\"p\">,</span><span class=\"ss\">&quot;quality flag (0-2, standard flags (0-1-2) defined by Mauder and Foken (2006), flag = 0 best quality, flag = 2 worse quality, see Goodrich et al., 2016)&quot;</span><span class=\"p\">,</span><span class=\"o\">[</span><span class=\"n\">#</span><span class=\"o\">]</span>\n",
       "<span class=\"p\">,</span><span class=\"n\">LE</span><span class=\"p\">,</span><span class=\"n\">Latent</span><span class=\"w\"> </span><span class=\"n\">heat</span><span class=\"p\">,</span><span class=\"o\">[</span><span class=\"n\">W+1m-2</span><span class=\"o\">]</span>\n",
       "<span class=\"p\">,</span><span class=\"n\">qc_LE</span><span class=\"p\">,</span><span class=\"ss\">&quot;quality flag (0-2, standard flags (0-1-2) defined by Mauder and Foken (2006), flag = 0 best quality, flag = 2 worse quality, see Goodrich et al., 2016)&quot;</span><span class=\"p\">,</span><span class=\"o\">[</span><span class=\"n\">#</span><span class=\"o\">]</span>\n",
       "<span class=\"p\">,</span><span class=\"n\">co2_flux</span><span class=\"p\">,</span><span class=\"n\">CO2</span><span class=\"w\"> </span><span class=\"n\">fluxes</span><span class=\"p\">,</span><span class=\"o\">[</span><span class=\"n\">Âµmol+1s-1m-2</span><span class=\"o\">]</span>\n",
       "<span class=\"p\">,</span><span class=\"n\">qc_co2_flux</span><span class=\"p\">,</span><span class=\"ss\">&quot;quality flag (0-2, standard flags (0-1-2) defined by Mauder and Foken (2006), flag = 0 best quality, flag = 2 worse quality, see Goodrich et al., 2016)&quot;</span><span class=\"p\">,</span><span class=\"o\">[</span><span class=\"n\">#</span><span class=\"o\">]</span>\n",
       "<span class=\"p\">,</span><span class=\"n\">h2o_flux</span><span class=\"p\">,</span><span class=\"n\">H2O</span><span class=\"w\"> </span><span class=\"n\">fluxes</span><span class=\"p\">,</span><span class=\"o\">[</span><span class=\"n\">mmol+1s-1m-2</span><span class=\"o\">]</span>\n",
       "<span class=\"p\">,</span><span class=\"n\">qc_h2o_flux</span><span class=\"p\">,</span><span class=\"ss\">&quot;quality flag (0-2, standard flags (0-1-2) defined by Mauder and Foken (2006), flag = 0 best quality, flag = 2 worse quality, see Goodrich et al., 2016)&quot;</span><span class=\"p\">,</span><span class=\"o\">[</span><span class=\"n\">#</span><span class=\"o\">]</span>\n",
       "<span class=\"p\">,</span><span class=\"n\">ch4_flux</span><span class=\"p\">,</span><span class=\"n\">CH4</span><span class=\"w\"> </span><span class=\"n\">fluxes</span><span class=\"p\">,</span><span class=\"o\">[</span><span class=\"n\">Âµmol+1s-1m-2</span><span class=\"o\">]</span>\n",
       "<span class=\"p\">,</span><span class=\"n\">qc_ch4_flux</span><span class=\"p\">,</span><span class=\"ss\">&quot;quality flag (0-2, standard flags (0-1-2) defined by Mauder and Foken (2006), flag = 0 best quality, flag = 2 worse quality, see Goodrich et al., 2016)&quot;</span><span class=\"p\">,</span><span class=\"o\">[</span><span class=\"n\">#</span><span class=\"o\">]</span>\n",
       "<span class=\"n\">gas_densities_concentrations</span><span class=\"p\">,</span><span class=\"n\">co2_molar_density</span><span class=\"p\">,,</span><span class=\"o\">[</span><span class=\"n\">mmol+1m-3</span><span class=\"o\">]</span>\n",
       "<span class=\"p\">,</span><span class=\"n\">co2_mole_fraction</span><span class=\"p\">,</span><span class=\"n\">units</span><span class=\"w\"> </span><span class=\"n\">indicate</span><span class=\"w\"> </span><span class=\"n\">mole</span><span class=\"w\"> </span><span class=\"n\">fraction</span><span class=\"w\"> </span><span class=\"n\">per</span><span class=\"w\"> </span><span class=\"n\">mole</span><span class=\"w\"> </span><span class=\"k\">of</span><span class=\"w\"> </span><span class=\"n\">air</span><span class=\"w\"> </span><span class=\"p\">(</span><span class=\"n\">a</span><span class=\"o\">-</span><span class=\"mi\">1</span><span class=\"p\">),</span><span class=\"o\">[</span><span class=\"n\">Âµmol+1mol_a-1</span><span class=\"o\">]</span>\n",
       "<span class=\"p\">,</span><span class=\"n\">co2_mixing_ratio</span><span class=\"p\">,</span><span class=\"n\">units</span><span class=\"w\"> </span><span class=\"n\">indicate</span><span class=\"w\"> </span><span class=\"n\">mole</span><span class=\"w\"> </span><span class=\"n\">fraction</span><span class=\"w\"> </span><span class=\"n\">per</span><span class=\"w\"> </span><span class=\"n\">mole</span><span class=\"w\"> </span><span class=\"k\">of</span><span class=\"w\"> </span><span class=\"n\">dry</span><span class=\"w\"> </span><span class=\"n\">air</span><span class=\"w\"> </span><span class=\"p\">(</span><span class=\"n\">d</span><span class=\"o\">-</span><span class=\"mi\">1</span><span class=\"p\">),</span><span class=\"o\">[</span><span class=\"n\">Âµmol+1mol_d-1</span><span class=\"o\">]</span>\n",
       "<span class=\"n\">air_properties</span><span class=\"p\">,</span><span class=\"n\">air_temperature</span><span class=\"p\">,</span><span class=\"n\">air</span><span class=\"w\"> </span><span class=\"n\">temperature</span><span class=\"w\"> </span><span class=\"k\">from</span><span class=\"w\"> </span><span class=\"n\">the</span><span class=\"w\"> </span><span class=\"n\">sonic</span><span class=\"w\"> </span><span class=\"n\">anemometer</span><span class=\"p\">,</span><span class=\"o\">[</span><span class=\"n\">K</span><span class=\"o\">]</span>\n",
       "<span class=\"p\">,</span><span class=\"n\">air_pressure</span><span class=\"p\">,</span><span class=\"n\">fixed</span><span class=\"w\"> </span><span class=\"k\">value</span><span class=\"w\"> </span><span class=\"k\">use</span><span class=\"w\"> </span><span class=\"k\">for</span><span class=\"w\"> </span><span class=\"n\">the</span><span class=\"w\"> </span><span class=\"n\">flux</span><span class=\"w\"> </span><span class=\"n\">calculation</span><span class=\"p\">,</span><span class=\"o\">[</span><span class=\"n\">Pa</span><span class=\"o\">]</span>\n",
       "</pre></div>\n"
      ],
      "text/latex": [
       "\\begin{Verbatim}[commandchars=\\\\\\{\\}]\n",
       "\\PY{n}{file\\PYZus{}info}\\PY{p}{,}\\PY{n}{filename}\\PY{p}{,}\\PY{n}{notes}\\PY{p}{,}\\PY{n}{units}\n",
       "\\PY{p}{,}\\PY{n+nc}{date}\\PY{p}{,}\\PY{p}{,}\\PY{o}{[}\\PY{n}{yyyy\\PYZhy{}mm\\PYZhy{}dd}\\PY{o}{]}\n",
       "\\PY{p}{,}\\PY{n+nc}{time}\\PY{p}{,}\\PY{p}{,}\\PY{o}{[}\\PY{n}{HH:MM}\\PY{o}{]}\n",
       "\\PY{p}{,}\\PY{n}{DOY}\\PY{p}{,}\\PY{n}{Julian}\\PY{+w}{ }\\PY{n+nf}{day}\\PY{p}{,}\\PY{o}{[}\\PY{n}{ddd.ddd}\\PY{o}{]}\n",
       "\\PY{p}{,}\\PY{n}{daytime}\\PY{p}{,}\\PY{p}{,}\\PY{o}{[}\\PY{n}{1=daytime}\\PY{o}{]}\n",
       "\\PY{n}{corrected\\PYZus{}fluxes\\PYZus{}and\\PYZus{}quality\\PYZus{}flags}\\PY{p}{,}\\PY{n}{H}\\PY{p}{,}\\PY{n}{sensible}\\PY{+w}{ }\\PY{n}{heat}\\PY{p}{,}\\PY{o}{[}\\PY{n}{W+1m\\PYZhy{}2}\\PY{o}{]}\n",
       "\\PY{p}{,}\\PY{n}{qc\\PYZus{}H}\\PY{p}{,}\\PY{l+s+ss}{\\PYZdq{}quality flag (0\\PYZhy{}2, standard flags (0\\PYZhy{}1\\PYZhy{}2) defined by Mauder and Foken (2006), flag = 0 best quality, flag = 2 worse quality, see Goodrich et al., 2016)\\PYZdq{}}\\PY{p}{,}\\PY{o}{[}\\PY{n}{\\PYZsh{}}\\PY{o}{]}\n",
       "\\PY{p}{,}\\PY{n}{LE}\\PY{p}{,}\\PY{n}{Latent}\\PY{+w}{ }\\PY{n}{heat}\\PY{p}{,}\\PY{o}{[}\\PY{n}{W+1m\\PYZhy{}2}\\PY{o}{]}\n",
       "\\PY{p}{,}\\PY{n}{qc\\PYZus{}LE}\\PY{p}{,}\\PY{l+s+ss}{\\PYZdq{}quality flag (0\\PYZhy{}2, standard flags (0\\PYZhy{}1\\PYZhy{}2) defined by Mauder and Foken (2006), flag = 0 best quality, flag = 2 worse quality, see Goodrich et al., 2016)\\PYZdq{}}\\PY{p}{,}\\PY{o}{[}\\PY{n}{\\PYZsh{}}\\PY{o}{]}\n",
       "\\PY{p}{,}\\PY{n}{co2\\PYZus{}flux}\\PY{p}{,}\\PY{n}{CO2}\\PY{+w}{ }\\PY{n}{fluxes}\\PY{p}{,}\\PY{o}{[}\\PY{n}{Âµmol+1s\\PYZhy{}1m\\PYZhy{}2}\\PY{o}{]}\n",
       "\\PY{p}{,}\\PY{n}{qc\\PYZus{}co2\\PYZus{}flux}\\PY{p}{,}\\PY{l+s+ss}{\\PYZdq{}quality flag (0\\PYZhy{}2, standard flags (0\\PYZhy{}1\\PYZhy{}2) defined by Mauder and Foken (2006), flag = 0 best quality, flag = 2 worse quality, see Goodrich et al., 2016)\\PYZdq{}}\\PY{p}{,}\\PY{o}{[}\\PY{n}{\\PYZsh{}}\\PY{o}{]}\n",
       "\\PY{p}{,}\\PY{n}{h2o\\PYZus{}flux}\\PY{p}{,}\\PY{n}{H2O}\\PY{+w}{ }\\PY{n}{fluxes}\\PY{p}{,}\\PY{o}{[}\\PY{n}{mmol+1s\\PYZhy{}1m\\PYZhy{}2}\\PY{o}{]}\n",
       "\\PY{p}{,}\\PY{n}{qc\\PYZus{}h2o\\PYZus{}flux}\\PY{p}{,}\\PY{l+s+ss}{\\PYZdq{}quality flag (0\\PYZhy{}2, standard flags (0\\PYZhy{}1\\PYZhy{}2) defined by Mauder and Foken (2006), flag = 0 best quality, flag = 2 worse quality, see Goodrich et al., 2016)\\PYZdq{}}\\PY{p}{,}\\PY{o}{[}\\PY{n}{\\PYZsh{}}\\PY{o}{]}\n",
       "\\PY{p}{,}\\PY{n}{ch4\\PYZus{}flux}\\PY{p}{,}\\PY{n}{CH4}\\PY{+w}{ }\\PY{n}{fluxes}\\PY{p}{,}\\PY{o}{[}\\PY{n}{Âµmol+1s\\PYZhy{}1m\\PYZhy{}2}\\PY{o}{]}\n",
       "\\PY{p}{,}\\PY{n}{qc\\PYZus{}ch4\\PYZus{}flux}\\PY{p}{,}\\PY{l+s+ss}{\\PYZdq{}quality flag (0\\PYZhy{}2, standard flags (0\\PYZhy{}1\\PYZhy{}2) defined by Mauder and Foken (2006), flag = 0 best quality, flag = 2 worse quality, see Goodrich et al., 2016)\\PYZdq{}}\\PY{p}{,}\\PY{o}{[}\\PY{n}{\\PYZsh{}}\\PY{o}{]}\n",
       "\\PY{n}{gas\\PYZus{}densities\\PYZus{}concentrations}\\PY{p}{,}\\PY{n}{co2\\PYZus{}molar\\PYZus{}density}\\PY{p}{,}\\PY{p}{,}\\PY{o}{[}\\PY{n}{mmol+1m\\PYZhy{}3}\\PY{o}{]}\n",
       "\\PY{p}{,}\\PY{n}{co2\\PYZus{}mole\\PYZus{}fraction}\\PY{p}{,}\\PY{n}{units}\\PY{+w}{ }\\PY{n}{indicate}\\PY{+w}{ }\\PY{n}{mole}\\PY{+w}{ }\\PY{n}{fraction}\\PY{+w}{ }\\PY{n}{per}\\PY{+w}{ }\\PY{n}{mole}\\PY{+w}{ }\\PY{k}{of}\\PY{+w}{ }\\PY{n}{air}\\PY{+w}{ }\\PY{p}{(}\\PY{n}{a}\\PY{o}{\\PYZhy{}}\\PY{l+m+mi}{1}\\PY{p}{)}\\PY{p}{,}\\PY{o}{[}\\PY{n}{Âµmol+1mol\\PYZus{}a\\PYZhy{}1}\\PY{o}{]}\n",
       "\\PY{p}{,}\\PY{n}{co2\\PYZus{}mixing\\PYZus{}ratio}\\PY{p}{,}\\PY{n}{units}\\PY{+w}{ }\\PY{n}{indicate}\\PY{+w}{ }\\PY{n}{mole}\\PY{+w}{ }\\PY{n}{fraction}\\PY{+w}{ }\\PY{n}{per}\\PY{+w}{ }\\PY{n}{mole}\\PY{+w}{ }\\PY{k}{of}\\PY{+w}{ }\\PY{n}{dry}\\PY{+w}{ }\\PY{n}{air}\\PY{+w}{ }\\PY{p}{(}\\PY{n}{d}\\PY{o}{\\PYZhy{}}\\PY{l+m+mi}{1}\\PY{p}{)}\\PY{p}{,}\\PY{o}{[}\\PY{n}{Âµmol+1mol\\PYZus{}d\\PYZhy{}1}\\PY{o}{]}\n",
       "\\PY{n}{air\\PYZus{}properties}\\PY{p}{,}\\PY{n}{air\\PYZus{}temperature}\\PY{p}{,}\\PY{n}{air}\\PY{+w}{ }\\PY{n}{temperature}\\PY{+w}{ }\\PY{k}{from}\\PY{+w}{ }\\PY{n}{the}\\PY{+w}{ }\\PY{n}{sonic}\\PY{+w}{ }\\PY{n}{anemometer}\\PY{p}{,}\\PY{o}{[}\\PY{n}{K}\\PY{o}{]}\n",
       "\\PY{p}{,}\\PY{n}{air\\PYZus{}pressure}\\PY{p}{,}\\PY{n}{fixed}\\PY{+w}{ }\\PY{k}{value}\\PY{+w}{ }\\PY{k}{use}\\PY{+w}{ }\\PY{k}{for}\\PY{+w}{ }\\PY{n}{the}\\PY{+w}{ }\\PY{n}{flux}\\PY{+w}{ }\\PY{n}{calculation}\\PY{p}{,}\\PY{o}{[}\\PY{n}{Pa}\\PY{o}{]}\n",
       "\\end{Verbatim}\n"
      ],
      "text/plain": [
       "file_info,filename,notes,units\n",
       ",date,,[yyyy-mm-dd]\n",
       ",time,,[HH:MM]\n",
       ",DOY,Julian day,[ddd.ddd]\n",
       ",daytime,,[1=daytime]\n",
       "corrected_fluxes_and_quality_flags,H,sensible heat,[W+1m-2]\n",
       ",qc_H,\"quality flag (0-2, standard flags (0-1-2) defined by Mauder and Foken (2006), flag = 0 best quality, flag = 2 worse quality, see Goodrich et al., 2016)\",[#]\n",
       ",LE,Latent heat,[W+1m-2]\n",
       ",qc_LE,\"quality flag (0-2, standard flags (0-1-2) defined by Mauder and Foken (2006), flag = 0 best quality, flag = 2 worse quality, see Goodrich et al., 2016)\",[#]\n",
       ",co2_flux,CO2 fluxes,[Âµmol+1s-1m-2]\n",
       ",qc_co2_flux,\"quality flag (0-2, standard flags (0-1-2) defined by Mauder and Foken (2006), flag = 0 best quality, flag = 2 worse quality, see Goodrich et al., 2016)\",[#]\n",
       ",h2o_flux,H2O fluxes,[mmol+1s-1m-2]\n",
       ",qc_h2o_flux,\"quality flag (0-2, standard flags (0-1-2) defined by Mauder and Foken (2006), flag = 0 best quality, flag = 2 worse quality, see Goodrich et al., 2016)\",[#]\n",
       ",ch4_flux,CH4 fluxes,[Âµmol+1s-1m-2]\n",
       ",qc_ch4_flux,\"quality flag (0-2, standard flags (0-1-2) defined by Mauder and Foken (2006), flag = 0 best quality, flag = 2 worse quality, see Goodrich et al., 2016)\",[#]\n",
       "gas_densities_concentrations,co2_molar_density,,[mmol+1m-3]\n",
       ",co2_mole_fraction,units indicate mole fraction per mole of air (a-1),[Âµmol+1mol_a-1]\n",
       ",co2_mixing_ratio,units indicate mole fraction per mole of dry air (d-1),[Âµmol+1mol_d-1]\n",
       "air_properties,air_temperature,air temperature from the sonic anemometer,[K]\n",
       ",air_pressure,fixed value use for the flux calculation,[Pa]"
      ]
     },
     "execution_count": 7,
     "metadata": {},
     "output_type": "execute_result"
    }
   ],
   "source": [
    "import requests\n",
    "from IPython.display import Code\n",
    "\n",
    "## UUID of CMDL_fluxes_data_readme.csv\n",
    "uuid  = \"urn:uuid:988f6846-5378-45d2-9a15-8db398ea2d4a\"\n",
    "response = requests.get(f\"https://cn.dataone.org/cn/v2/resolve/{uuid}\")\n",
    "Code(response.text[0:2000])"
   ]
  },
  {
   "cell_type": "markdown",
   "metadata": {},
   "source": [
    "In this case, the DataONE resolver returns the contents (CSV) of the file with the assigned URN.\n",
    "\n",
    "It is important to note that URNs do not need to resolve. They are intended as identifiers that may outlive the services and resources they represent. However, in many cases we want to be able to resolve and access identified resources when they are still available."
   ]
  },
  {
   "cell_type": "markdown",
   "metadata": {},
   "source": [
    "## The Problem with URLs: Link Rot and Content Drift\n",
    "\n",
    "While URLs are widely-used identifiers and locators for web-based resources, long-term access requires that individuals and organizations maintain them. [Link rot](https://en.wikipedia.org/wiki/Link_rot) is used to describe the problem that, over time, many URLs (or hyperlinks) are no longer accessible. Resources are moved or renamed, domain names registrations expire, etc.\n",
    "\n",
    "For example, the W3C Recommendation [Architecture of the World Wide Web](https://www.w3.org/TR/webarch/) cites the following paper:\n",
    "\n",
    "> [Eng90] [Knowledge-Domain Interoperability and an Open Hyperdocument System](http://www.bootstrap.org/augment/AUGMENT/132082.html), D. C. Engelbart, June 1990.\n",
    "\n",
    "With the URL `http://www.bootstrap.org/augment/AUGMENT/132082.html`.\n",
    "\n",
    "The domain `bootstrap.org` now redirects to `dougengelbart.org` and the cited paper is now available under a different path `https://dougengelbart.org/content/view/114/`.  The result of accessing the original URL is the HTTP 404 \"Not Found\" error."
   ]
  },
  {
   "cell_type": "code",
   "execution_count": 8,
   "metadata": {},
   "outputs": [
    {
     "data": {
      "text/plain": [
       "<Response [404]>"
      ]
     },
     "execution_count": 8,
     "metadata": {},
     "output_type": "execute_result"
    }
   ],
   "source": [
    "requests.get(\"http://www.bootstrap.org/augment/AUGMENT/132082.html\")"
   ]
  },
  {
   "cell_type": "markdown",
   "metadata": {},
   "source": [
    "Over the decades, a number of solutions (or interventions) have been proposed to address the problem of link rot.\n",
    "* Use of redirection methods (such as HTTP 301) to automatically redirect useres to relocated content.\n",
    "* Use of persistent identifiers such as Archival Resource Keys (ARKs), Persistent URLs (PURLs), Handles, or Digital Object Identifiers (DOIs).\n",
    "\n"
   ]
  },
  {
   "cell_type": "markdown",
   "metadata": {},
   "source": [
    "## Persistent URLs (PURL)\n",
    "\n",
    "One of the earliest approaches to addressing the problem of broken links was the use of URL redirection services. Persistent URLs (PURLs) were introduced by OCLC in the mid-1990s as an intermediate solution while the W3C worked on the standardization of URNs. PURLs themselves are HTTP URLs that, via a PURL resolver, are configured to redirect to another location. Administrators create a PURL **domain** and can configure various redirection mechanisms for **subdomains** (or subpaths). \n",
    "\n",
    "`purl.org` accounts are free to create and domain administrators have control over how URLs are redirected."
   ]
  },
  {
   "cell_type": "markdown",
   "metadata": {},
   "source": [
    "Perhaps one of the more widely used PURL domains is https://purl.org/dc, used by the Dublic Core Metadata Initiative. In the example below, we can see how requests to `purl.org` go through a series of HTTP redirects before reaching the final target at `dublincore.org`."
   ]
  },
  {
   "cell_type": "code",
   "execution_count": 9,
   "metadata": {},
   "outputs": [
    {
     "name": "stdout",
     "output_type": "stream",
     "text": [
      "307 https://purl.org/dc/elements/1.1/\n",
      "302 https://purl.archive.org/dc/elements/1.1/\n",
      "301 http://www.dublincore.org/specifications/dublin-core/dcmi-terms/dublin_core_elements\n",
      "303 https://www.dublincore.org/specifications/dublin-core/dcmi-terms/dublin_core_elements\n",
      "301 http://www.dublincore.org/specifications/dublin-core/dcmi-terms/\n",
      "200 https://www.dublincore.org/specifications/dublin-core/dcmi-terms/\n"
     ]
    }
   ],
   "source": [
    "# down as of 2024.11.7\n",
    "response = requests.get(\"https://purl.org/dc/elements/1.1/\")\n",
    "for resp in response.history:\n",
    "    print(resp.status_code, resp.url)\n",
    "\n",
    "print(response.status_code, response.url)"
   ]
  },
  {
   "cell_type": "markdown",
   "metadata": {},
   "source": [
    "**Historical note**: The primary PURL resolver at https://purl.org was operated by OCLC from 1995 - 2016 when [responsibility was transfer to the  Internet Archive](https://blog.archive.org/2016/09/27/persistent-url-service-purl-org-now-run-by-the-internet-archive/). OCLC was no longer able to maintain the service, which was unavailable for a period of time. During this time, PURLs did not resolve."
   ]
  },
  {
   "cell_type": "markdown",
   "metadata": {},
   "source": [
    "## Digital Object Identifier (DOI)"
   ]
  },
  {
   "cell_type": "markdown",
   "metadata": {},
   "source": [
    "A digital object identifier (DOI) is a persistent identifier widely used in publishing of journal articles and later research data. DOIs are implemented using the Handle System.\n",
    "\n",
    "For example, the following paper published in the *Data Science Journal* has been assigned the DOI `10.5334/dsj-2017-009`:\n",
    "\n",
    "> Klump, J., & Huber, R. (2017). 20 Years of Persistent Identifiers – Which Systems are Here to Stay? *Data Science Journal*, 16, 9–9. https://doi.org/10.5334/dsj-2017-009\n",
    "\n",
    "Using a web browser, when you click on the DOI link in the refence above, you should be taken to the article published at the following URL:\n",
    "\n",
    "https://datascience.codata.org/articles/10.5334/dsj-2017-009\n",
    "\n",
    "This process is called **resolution**. The DOI `10.5334/dsj-2017-009` is submitted to a service at https://doi.org that returns information about the identified paper, which is by default a redirection to the URL of the paper hosted on the publisher's website."
   ]
  },
  {
   "cell_type": "code",
   "execution_count": 10,
   "metadata": {},
   "outputs": [
    {
     "name": "stdout",
     "output_type": "stream",
     "text": [
      "302 https://doi.org/10.5334/dsj-2017-009\n",
      "301 http://datascience.codata.org/articles/10.5334/dsj-2017-009/\n",
      "308 https://datascience.codata.org/articles/10.5334/dsj-2017-009/\n",
      "200 https://datascience.codata.org/articles/10.5334/dsj-2017-009\n"
     ]
    }
   ],
   "source": [
    "response = requests.get(\"https://doi.org/10.5334/dsj-2017-009\")\n",
    "for resp in response.history:\n",
    "    print(resp.status_code, resp.url)\n",
    "\n",
    "print(response.status_code, response.url)"
   ]
  },
  {
   "cell_type": "markdown",
   "metadata": {},
   "source": [
    "Beyond simple redirection, DOI infrastructure supports [content negotation](https://citation.crosscite.org/docs.html), a mechanism for serving different representations of the identified resource. For example, it is possible to request a formatted citation for the resource:"
   ]
  },
  {
   "cell_type": "code",
   "execution_count": 11,
   "metadata": {},
   "outputs": [
    {
     "data": {
      "text/html": [
       "<style>pre { line-height: 125%; }\n",
       "td.linenos .normal { color: inherit; background-color: transparent; padding-left: 5px; padding-right: 5px; }\n",
       "span.linenos { color: inherit; background-color: transparent; padding-left: 5px; padding-right: 5px; }\n",
       "td.linenos .special { color: #000000; background-color: #ffffc0; padding-left: 5px; padding-right: 5px; }\n",
       "span.linenos.special { color: #000000; background-color: #ffffc0; padding-left: 5px; padding-right: 5px; }\n",
       ".output_html .hll { background-color: #ffffcc }\n",
       ".output_html { background: #f8f8f8; }\n",
       ".output_html .c { color: #3D7B7B; font-style: italic } /* Comment */\n",
       ".output_html .err { border: 1px solid #F00 } /* Error */\n",
       ".output_html .k { color: #008000; font-weight: bold } /* Keyword */\n",
       ".output_html .o { color: #666 } /* Operator */\n",
       ".output_html .ch { color: #3D7B7B; font-style: italic } /* Comment.Hashbang */\n",
       ".output_html .cm { color: #3D7B7B; font-style: italic } /* Comment.Multiline */\n",
       ".output_html .cp { color: #9C6500 } /* Comment.Preproc */\n",
       ".output_html .cpf { color: #3D7B7B; font-style: italic } /* Comment.PreprocFile */\n",
       ".output_html .c1 { color: #3D7B7B; font-style: italic } /* Comment.Single */\n",
       ".output_html .cs { color: #3D7B7B; font-style: italic } /* Comment.Special */\n",
       ".output_html .gd { color: #A00000 } /* Generic.Deleted */\n",
       ".output_html .ge { font-style: italic } /* Generic.Emph */\n",
       ".output_html .ges { font-weight: bold; font-style: italic } /* Generic.EmphStrong */\n",
       ".output_html .gr { color: #E40000 } /* Generic.Error */\n",
       ".output_html .gh { color: #000080; font-weight: bold } /* Generic.Heading */\n",
       ".output_html .gi { color: #008400 } /* Generic.Inserted */\n",
       ".output_html .go { color: #717171 } /* Generic.Output */\n",
       ".output_html .gp { color: #000080; font-weight: bold } /* Generic.Prompt */\n",
       ".output_html .gs { font-weight: bold } /* Generic.Strong */\n",
       ".output_html .gu { color: #800080; font-weight: bold } /* Generic.Subheading */\n",
       ".output_html .gt { color: #04D } /* Generic.Traceback */\n",
       ".output_html .kc { color: #008000; font-weight: bold } /* Keyword.Constant */\n",
       ".output_html .kd { color: #008000; font-weight: bold } /* Keyword.Declaration */\n",
       ".output_html .kn { color: #008000; font-weight: bold } /* Keyword.Namespace */\n",
       ".output_html .kp { color: #008000 } /* Keyword.Pseudo */\n",
       ".output_html .kr { color: #008000; font-weight: bold } /* Keyword.Reserved */\n",
       ".output_html .kt { color: #B00040 } /* Keyword.Type */\n",
       ".output_html .m { color: #666 } /* Literal.Number */\n",
       ".output_html .s { color: #BA2121 } /* Literal.String */\n",
       ".output_html .na { color: #687822 } /* Name.Attribute */\n",
       ".output_html .nb { color: #008000 } /* Name.Builtin */\n",
       ".output_html .nc { color: #00F; font-weight: bold } /* Name.Class */\n",
       ".output_html .no { color: #800 } /* Name.Constant */\n",
       ".output_html .nd { color: #A2F } /* Name.Decorator */\n",
       ".output_html .ni { color: #717171; font-weight: bold } /* Name.Entity */\n",
       ".output_html .ne { color: #CB3F38; font-weight: bold } /* Name.Exception */\n",
       ".output_html .nf { color: #00F } /* Name.Function */\n",
       ".output_html .nl { color: #767600 } /* Name.Label */\n",
       ".output_html .nn { color: #00F; font-weight: bold } /* Name.Namespace */\n",
       ".output_html .nt { color: #008000; font-weight: bold } /* Name.Tag */\n",
       ".output_html .nv { color: #19177C } /* Name.Variable */\n",
       ".output_html .ow { color: #A2F; font-weight: bold } /* Operator.Word */\n",
       ".output_html .w { color: #BBB } /* Text.Whitespace */\n",
       ".output_html .mb { color: #666 } /* Literal.Number.Bin */\n",
       ".output_html .mf { color: #666 } /* Literal.Number.Float */\n",
       ".output_html .mh { color: #666 } /* Literal.Number.Hex */\n",
       ".output_html .mi { color: #666 } /* Literal.Number.Integer */\n",
       ".output_html .mo { color: #666 } /* Literal.Number.Oct */\n",
       ".output_html .sa { color: #BA2121 } /* Literal.String.Affix */\n",
       ".output_html .sb { color: #BA2121 } /* Literal.String.Backtick */\n",
       ".output_html .sc { color: #BA2121 } /* Literal.String.Char */\n",
       ".output_html .dl { color: #BA2121 } /* Literal.String.Delimiter */\n",
       ".output_html .sd { color: #BA2121; font-style: italic } /* Literal.String.Doc */\n",
       ".output_html .s2 { color: #BA2121 } /* Literal.String.Double */\n",
       ".output_html .se { color: #AA5D1F; font-weight: bold } /* Literal.String.Escape */\n",
       ".output_html .sh { color: #BA2121 } /* Literal.String.Heredoc */\n",
       ".output_html .si { color: #A45A77; font-weight: bold } /* Literal.String.Interpol */\n",
       ".output_html .sx { color: #008000 } /* Literal.String.Other */\n",
       ".output_html .sr { color: #A45A77 } /* Literal.String.Regex */\n",
       ".output_html .s1 { color: #BA2121 } /* Literal.String.Single */\n",
       ".output_html .ss { color: #19177C } /* Literal.String.Symbol */\n",
       ".output_html .bp { color: #008000 } /* Name.Builtin.Pseudo */\n",
       ".output_html .fm { color: #00F } /* Name.Function.Magic */\n",
       ".output_html .vc { color: #19177C } /* Name.Variable.Class */\n",
       ".output_html .vg { color: #19177C } /* Name.Variable.Global */\n",
       ".output_html .vi { color: #19177C } /* Name.Variable.Instance */\n",
       ".output_html .vm { color: #19177C } /* Name.Variable.Magic */\n",
       ".output_html .il { color: #666 } /* Literal.Number.Integer.Long */</style><div class=\"highlight\"><pre><span></span>Klump, J., &amp; Huber, R. (2017). 20 Years of Persistent Identifiers â Which Systems are Here to Stay? Data Science Journal, 16. https://doi.org/10.5334/dsj-2017-009\n",
       "</pre></div>\n"
      ],
      "text/latex": [
       "\\begin{Verbatim}[commandchars=\\\\\\{\\}]\n",
       "Klump, J., \\PYZam{} Huber, R. (2017). 20 Years of Persistent Identifiers â Which Systems are Here to Stay? Data Science Journal, 16. https://doi.org/10.5334/dsj\\PYZhy{}2017\\PYZhy{}009\n",
       "\\end{Verbatim}\n"
      ],
      "text/plain": [
       "Klump, J., & Huber, R. (2017). 20 Years of Persistent Identifiers â Which Systems are Here to Stay? Data Science Journal, 16. https://doi.org/10.5334/dsj-2017-009"
      ]
     },
     "execution_count": 11,
     "metadata": {},
     "output_type": "execute_result"
    }
   ],
   "source": [
    "headers = {\n",
    "    'Accept': 'text/x-bibliography; style=apa'\n",
    "}\n",
    "resp = requests.get(\"https://doi.org/10.5334/dsj-2017-009\", headers = headers)\n",
    "Code(resp.text)"
   ]
  },
  {
   "cell_type": "markdown",
   "metadata": {},
   "source": [
    "It is also possible to request only the **metadata** describing the resource:\n"
   ]
  },
  {
   "cell_type": "code",
   "execution_count": 12,
   "metadata": {},
   "outputs": [
    {
     "data": {
      "text/html": [
       "<style>pre { line-height: 125%; }\n",
       "td.linenos .normal { color: inherit; background-color: transparent; padding-left: 5px; padding-right: 5px; }\n",
       "span.linenos { color: inherit; background-color: transparent; padding-left: 5px; padding-right: 5px; }\n",
       "td.linenos .special { color: #000000; background-color: #ffffc0; padding-left: 5px; padding-right: 5px; }\n",
       "span.linenos.special { color: #000000; background-color: #ffffc0; padding-left: 5px; padding-right: 5px; }\n",
       ".output_html .hll { background-color: #ffffcc }\n",
       ".output_html { background: #f8f8f8; }\n",
       ".output_html .c { color: #3D7B7B; font-style: italic } /* Comment */\n",
       ".output_html .err { border: 1px solid #F00 } /* Error */\n",
       ".output_html .k { color: #008000; font-weight: bold } /* Keyword */\n",
       ".output_html .o { color: #666 } /* Operator */\n",
       ".output_html .ch { color: #3D7B7B; font-style: italic } /* Comment.Hashbang */\n",
       ".output_html .cm { color: #3D7B7B; font-style: italic } /* Comment.Multiline */\n",
       ".output_html .cp { color: #9C6500 } /* Comment.Preproc */\n",
       ".output_html .cpf { color: #3D7B7B; font-style: italic } /* Comment.PreprocFile */\n",
       ".output_html .c1 { color: #3D7B7B; font-style: italic } /* Comment.Single */\n",
       ".output_html .cs { color: #3D7B7B; font-style: italic } /* Comment.Special */\n",
       ".output_html .gd { color: #A00000 } /* Generic.Deleted */\n",
       ".output_html .ge { font-style: italic } /* Generic.Emph */\n",
       ".output_html .ges { font-weight: bold; font-style: italic } /* Generic.EmphStrong */\n",
       ".output_html .gr { color: #E40000 } /* Generic.Error */\n",
       ".output_html .gh { color: #000080; font-weight: bold } /* Generic.Heading */\n",
       ".output_html .gi { color: #008400 } /* Generic.Inserted */\n",
       ".output_html .go { color: #717171 } /* Generic.Output */\n",
       ".output_html .gp { color: #000080; font-weight: bold } /* Generic.Prompt */\n",
       ".output_html .gs { font-weight: bold } /* Generic.Strong */\n",
       ".output_html .gu { color: #800080; font-weight: bold } /* Generic.Subheading */\n",
       ".output_html .gt { color: #04D } /* Generic.Traceback */\n",
       ".output_html .kc { color: #008000; font-weight: bold } /* Keyword.Constant */\n",
       ".output_html .kd { color: #008000; font-weight: bold } /* Keyword.Declaration */\n",
       ".output_html .kn { color: #008000; font-weight: bold } /* Keyword.Namespace */\n",
       ".output_html .kp { color: #008000 } /* Keyword.Pseudo */\n",
       ".output_html .kr { color: #008000; font-weight: bold } /* Keyword.Reserved */\n",
       ".output_html .kt { color: #B00040 } /* Keyword.Type */\n",
       ".output_html .m { color: #666 } /* Literal.Number */\n",
       ".output_html .s { color: #BA2121 } /* Literal.String */\n",
       ".output_html .na { color: #687822 } /* Name.Attribute */\n",
       ".output_html .nb { color: #008000 } /* Name.Builtin */\n",
       ".output_html .nc { color: #00F; font-weight: bold } /* Name.Class */\n",
       ".output_html .no { color: #800 } /* Name.Constant */\n",
       ".output_html .nd { color: #A2F } /* Name.Decorator */\n",
       ".output_html .ni { color: #717171; font-weight: bold } /* Name.Entity */\n",
       ".output_html .ne { color: #CB3F38; font-weight: bold } /* Name.Exception */\n",
       ".output_html .nf { color: #00F } /* Name.Function */\n",
       ".output_html .nl { color: #767600 } /* Name.Label */\n",
       ".output_html .nn { color: #00F; font-weight: bold } /* Name.Namespace */\n",
       ".output_html .nt { color: #008000; font-weight: bold } /* Name.Tag */\n",
       ".output_html .nv { color: #19177C } /* Name.Variable */\n",
       ".output_html .ow { color: #A2F; font-weight: bold } /* Operator.Word */\n",
       ".output_html .w { color: #BBB } /* Text.Whitespace */\n",
       ".output_html .mb { color: #666 } /* Literal.Number.Bin */\n",
       ".output_html .mf { color: #666 } /* Literal.Number.Float */\n",
       ".output_html .mh { color: #666 } /* Literal.Number.Hex */\n",
       ".output_html .mi { color: #666 } /* Literal.Number.Integer */\n",
       ".output_html .mo { color: #666 } /* Literal.Number.Oct */\n",
       ".output_html .sa { color: #BA2121 } /* Literal.String.Affix */\n",
       ".output_html .sb { color: #BA2121 } /* Literal.String.Backtick */\n",
       ".output_html .sc { color: #BA2121 } /* Literal.String.Char */\n",
       ".output_html .dl { color: #BA2121 } /* Literal.String.Delimiter */\n",
       ".output_html .sd { color: #BA2121; font-style: italic } /* Literal.String.Doc */\n",
       ".output_html .s2 { color: #BA2121 } /* Literal.String.Double */\n",
       ".output_html .se { color: #AA5D1F; font-weight: bold } /* Literal.String.Escape */\n",
       ".output_html .sh { color: #BA2121 } /* Literal.String.Heredoc */\n",
       ".output_html .si { color: #A45A77; font-weight: bold } /* Literal.String.Interpol */\n",
       ".output_html .sx { color: #008000 } /* Literal.String.Other */\n",
       ".output_html .sr { color: #A45A77 } /* Literal.String.Regex */\n",
       ".output_html .s1 { color: #BA2121 } /* Literal.String.Single */\n",
       ".output_html .ss { color: #19177C } /* Literal.String.Symbol */\n",
       ".output_html .bp { color: #008000 } /* Name.Builtin.Pseudo */\n",
       ".output_html .fm { color: #00F } /* Name.Function.Magic */\n",
       ".output_html .vc { color: #19177C } /* Name.Variable.Class */\n",
       ".output_html .vg { color: #19177C } /* Name.Variable.Global */\n",
       ".output_html .vi { color: #19177C } /* Name.Variable.Instance */\n",
       ".output_html .vm { color: #19177C } /* Name.Variable.Magic */\n",
       ".output_html .il { color: #666 } /* Literal.Number.Integer.Long */</style><div class=\"highlight\"><pre><span></span><span class=\"cp\">&lt;?xml version=&quot;1.0&quot; encoding=&quot;UTF-8&quot;?&gt;</span>\n",
       "<span class=\"nt\">&lt;doi_records&gt;</span>\n",
       "<span class=\"w\">  </span><span class=\"nt\">&lt;doi_record</span><span class=\"w\"> </span><span class=\"na\">owner=</span><span class=\"s\">&quot;10.5334&quot;</span><span class=\"w\"> </span><span class=\"na\">timestamp=</span><span class=\"s\">&quot;2022-07-11 05:19:08&quot;</span><span class=\"nt\">&gt;</span>\n",
       "<span class=\"w\">    </span><span class=\"nt\">&lt;crossref&gt;</span>\n",
       "<span class=\"w\">      </span><span class=\"nt\">&lt;journal&gt;</span>\n",
       "<span class=\"w\">        </span><span class=\"nt\">&lt;journal_metadata</span><span class=\"w\"> </span><span class=\"na\">language=</span><span class=\"s\">&quot;en&quot;</span><span class=\"nt\">&gt;</span>\n",
       "<span class=\"w\">          </span><span class=\"nt\">&lt;full_title&gt;</span>Data<span class=\"w\"> </span>Science<span class=\"w\"> </span>Journal<span class=\"nt\">&lt;/full_title&gt;</span>\n",
       "<span class=\"w\">          </span><span class=\"nt\">&lt;issn</span><span class=\"w\"> </span><span class=\"na\">media_type=</span><span class=\"s\">&quot;electronic&quot;</span><span class=\"nt\">&gt;</span>1683-1470<span class=\"nt\">&lt;/issn&gt;</span>\n",
       "<span class=\"w\">        </span><span class=\"nt\">&lt;/journal_metadata&gt;</span>\n",
       "<span class=\"w\">        </span><span class=\"nt\">&lt;journal_issue&gt;</span>\n",
       "<span class=\"w\">          </span><span class=\"nt\">&lt;publication_date</span><span class=\"w\"> </span><span class=\"na\">media_type=</span><span class=\"s\">&quot;print&quot;</span><span class=\"nt\">&gt;</span>\n",
       "<span class=\"w\">            </span><span class=\"nt\">&lt;month&gt;</span>03<span class=\"nt\">&lt;/month&gt;</span>\n",
       "<span class=\"w\">            </span><span class=\"nt\">&lt;day&gt;</span>22<span class=\"nt\">&lt;/day&gt;</span>\n",
       "<span class=\"w\">            </span><span class=\"nt\">&lt;year&gt;</span>2017<span class=\"nt\">&lt;/year&gt;</span>\n",
       "<span class=\"w\">          </span><span class=\"nt\">&lt;/publication_date&gt;</span>\n",
       "<span class=\"w\">          </span><span class=\"nt\">&lt;publication_date</span><span class=\"w\"> </span><span class=\"na\">media_type=</span><span class=\"s\">&quot;print&quot;</span><span class=\"nt\">&gt;</span>\n",
       "<span class=\"w\">            </span><span class=\"nt\">&lt;month&gt;</span>03<span class=\"nt\">&lt;/month&gt;</span>\n",
       "<span class=\"w\">            </span><span class=\"nt\">&lt;day&gt;</span>22<span class=\"nt\">&lt;/day&gt;</span>\n",
       "<span class=\"w\">            </span><span class=\"nt\">&lt;year&gt;</span>2017<span class=\"nt\">&lt;/year&gt;</span>\n",
       "<span class=\"w\">          </span><span class=\"nt\">&lt;/publication_date&gt;</span>\n",
       "<span class=\"w\">          </span><span class=\"nt\">&lt;journal_volume&gt;</span>\n",
       "<span class=\"w\">            </span><span class=\"nt\">&lt;volume&gt;</span>16<span class=\"nt\">&lt;/volume&gt;</span>\n",
       "<span class=\"w\">          </span><span class=\"nt\">&lt;/journal_volume&gt;</span>\n",
       "<span class=\"w\">        </span><span class=\"nt\">&lt;/journal_issue&gt;</span>\n",
       "<span class=\"w\">        </span><span class=\"nt\">&lt;journal_article</span><span class=\"w\"> </span><span class=\"na\">publication_type=</span><span class=\"s\">&quot;full_text&quot;</span><span class=\"nt\">&gt;</span>\n",
       "<span class=\"w\">          </span><span class=\"nt\">&lt;titles&gt;</span>\n",
       "<span class=\"w\">            </span><span class=\"nt\">&lt;title&gt;</span>20<span class=\"w\"> </span>Years<span class=\"w\"> </span>of<span class=\"w\"> </span>Persistent<span class=\"w\"> </span>Identifiers<span class=\"w\"> </span>–<span class=\"w\"> </span>Which<span class=\"w\"> </span>Systems<span class=\"w\"> </span>are<span class=\"w\"> </span>Here<span class=\"w\"> </span>to<span class=\"w\"> </span>Stay?<span class=\"nt\">&lt;/title&gt;</span>\n",
       "<span class=\"w\">          </span><span class=\"nt\">&lt;/titles&gt;</span>\n",
       "<span class=\"w\">          </span><span class=\"nt\">&lt;contributors&gt;</span>\n",
       "<span class=\"w\">            </span><span class=\"nt\">&lt;person_name</span><span class=\"w\"> </span><span class=\"na\">sequence=</span><span class=\"s\">&quot;first&quot;</span><span class=\"w\"> </span><span class=\"na\">contributor_role=</span><span class=\"s\">&quot;author&quot;</span><span class=\"nt\">&gt;</span>\n",
       "<span class=\"w\">              </span><span class=\"nt\">&lt;given_name&gt;</span>Jens<span class=\"nt\">&lt;/given_name&gt;</span>\n",
       "<span class=\"w\">              </span><span class=\"nt\">&lt;surname&gt;</span>Klump<span class=\"nt\">&lt;/surname&gt;</span>\n",
       "<span class=\"w\">              </span><span class=\"nt\">&lt;ORCID&gt;</span>http://orcid.org/0000-0001-5911-6022<span class=\"nt\">&lt;/ORCID&gt;</span>\n",
       "<span class=\"w\">            </span><span class=\"nt\">&lt;/person_name&gt;</span>\n",
       "<span class=\"w\">            </span><span class=\"nt\">&lt;person_name</span><span class=\"w\"> </span><span class=\"na\">sequence=</span><span class=\"s\">&quot;additional&quot;</span><span class=\"w\"> </span><span class=\"na\">contributor_role=</span><span class=\"s\">&quot;author&quot;</span><span class=\"nt\">&gt;</span>\n",
       "<span class=\"w\">              </span><span class=\"nt\">&lt;given_name&gt;</span>Robert<span class=\"nt\">&lt;/given_name&gt;</span>\n",
       "<span class=\"w\">              </span><span class=\"nt\">&lt;surname&gt;</span>Huber<span class=\"nt\">&lt;/surname&gt;</span>\n",
       "<span class=\"w\">              </span><span class=\"nt\">&lt;ORCID&gt;</span>http://orcid.org/0000-0003-3000-0020<span class=\"nt\">&lt;/ORCID&gt;</span>\n",
       "<span class=\"w\">            </span><span class=\"nt\">&lt;/person_name&gt;</span>\n",
       "<span class=\"w\">          </span><span class=\"nt\">&lt;/contributors&gt;</span>\n",
       "<span class=\"w\">          </span><span class=\"nt\">&lt;publication_date</span><span class=\"w\"> </span><span class=\"na\">media_type=</span><span class=\"s\">&quot;print&quot;</span><span class=\"nt\">&gt;</span>\n",
       "<span class=\"w\">            </span><span class=\"nt\">&lt;month&gt;</span>03<span class=\"nt\">&lt;/month&gt;</span>\n",
       "<span class=\"w\">            </span><span class=\"nt\">&lt;day&gt;</span>22<span class=\"nt\">&lt;/day&gt;</span>\n",
       "<span class=\"w\">            </span><span class=\"nt\">&lt;year&gt;</span>2017<span class=\"nt\">&lt;/year&gt;</span>\n",
       "<span class=\"w\">          </span><span class=\"nt\">&lt;/publication_date&gt;</span>\n",
       "<span class=\"w\">          </span><span class=\"nt\">&lt;publication_date</span><span class=\"w\"> </span><span class=\"na\">media_type=</span><span class=\"s\">&quot;print&quot;</span><span class=\"nt\">&gt;</span>\n",
       "<span class=\"w\">            </span><span class=\"nt\">&lt;month&gt;</span>03<span class=\"nt\">&lt;/month&gt;</span>\n",
       "<span class=\"w\">            </span><span class=\"nt\">&lt;day&gt;</span>22<span class=\"nt\">&lt;/day&gt;</span>\n",
       "<span class=\"w\">            </span><span class=\"nt\">&lt;year&gt;</span>2017<span class=\"nt\">&lt;/year&gt;</span>\n",
       "<span class=\"w\">          </span><span class=\"nt\">&lt;/publication_date&gt;</span>\n",
       "<span class=\"w\">          </span><span class=\"nt\">&lt;publisher_item&gt;</span>\n",
       "<span class=\"w\">            </span><span class=\"nt\">&lt;item_number</span><span class=\"w\"> </span><span class=\"na\">item_number_type=</span><span class=\"s\">&quot;article_number&quot;</span><span class=\"nt\">&gt;</span>09<span class=\"err\">&lt;</span>/i\n",
       "</pre></div>\n"
      ],
      "text/latex": [
       "\\begin{Verbatim}[commandchars=\\\\\\{\\}]\n",
       "\\PY{c+cp}{\\PYZlt{}?xml version=\\PYZdq{}1.0\\PYZdq{} encoding=\\PYZdq{}UTF\\PYZhy{}8\\PYZdq{}?\\PYZgt{}}\n",
       "\\PY{n+nt}{\\PYZlt{}doi\\PYZus{}records}\\PY{n+nt}{\\PYZgt{}}\n",
       "\\PY{+w}{  }\\PY{n+nt}{\\PYZlt{}doi\\PYZus{}record}\\PY{+w}{ }\\PY{n+na}{owner=}\\PY{l+s}{\\PYZdq{}10.5334\\PYZdq{}}\\PY{+w}{ }\\PY{n+na}{timestamp=}\\PY{l+s}{\\PYZdq{}2022\\PYZhy{}07\\PYZhy{}11 05:19:08\\PYZdq{}}\\PY{n+nt}{\\PYZgt{}}\n",
       "\\PY{+w}{    }\\PY{n+nt}{\\PYZlt{}crossref}\\PY{n+nt}{\\PYZgt{}}\n",
       "\\PY{+w}{      }\\PY{n+nt}{\\PYZlt{}journal}\\PY{n+nt}{\\PYZgt{}}\n",
       "\\PY{+w}{        }\\PY{n+nt}{\\PYZlt{}journal\\PYZus{}metadata}\\PY{+w}{ }\\PY{n+na}{language=}\\PY{l+s}{\\PYZdq{}en\\PYZdq{}}\\PY{n+nt}{\\PYZgt{}}\n",
       "\\PY{+w}{          }\\PY{n+nt}{\\PYZlt{}full\\PYZus{}title}\\PY{n+nt}{\\PYZgt{}}Data\\PY{+w}{ }Science\\PY{+w}{ }Journal\\PY{n+nt}{\\PYZlt{}/full\\PYZus{}title\\PYZgt{}}\n",
       "\\PY{+w}{          }\\PY{n+nt}{\\PYZlt{}issn}\\PY{+w}{ }\\PY{n+na}{media\\PYZus{}type=}\\PY{l+s}{\\PYZdq{}electronic\\PYZdq{}}\\PY{n+nt}{\\PYZgt{}}1683\\PYZhy{}1470\\PY{n+nt}{\\PYZlt{}/issn\\PYZgt{}}\n",
       "\\PY{+w}{        }\\PY{n+nt}{\\PYZlt{}/journal\\PYZus{}metadata\\PYZgt{}}\n",
       "\\PY{+w}{        }\\PY{n+nt}{\\PYZlt{}journal\\PYZus{}issue}\\PY{n+nt}{\\PYZgt{}}\n",
       "\\PY{+w}{          }\\PY{n+nt}{\\PYZlt{}publication\\PYZus{}date}\\PY{+w}{ }\\PY{n+na}{media\\PYZus{}type=}\\PY{l+s}{\\PYZdq{}print\\PYZdq{}}\\PY{n+nt}{\\PYZgt{}}\n",
       "\\PY{+w}{            }\\PY{n+nt}{\\PYZlt{}month}\\PY{n+nt}{\\PYZgt{}}03\\PY{n+nt}{\\PYZlt{}/month\\PYZgt{}}\n",
       "\\PY{+w}{            }\\PY{n+nt}{\\PYZlt{}day}\\PY{n+nt}{\\PYZgt{}}22\\PY{n+nt}{\\PYZlt{}/day\\PYZgt{}}\n",
       "\\PY{+w}{            }\\PY{n+nt}{\\PYZlt{}year}\\PY{n+nt}{\\PYZgt{}}2017\\PY{n+nt}{\\PYZlt{}/year\\PYZgt{}}\n",
       "\\PY{+w}{          }\\PY{n+nt}{\\PYZlt{}/publication\\PYZus{}date\\PYZgt{}}\n",
       "\\PY{+w}{          }\\PY{n+nt}{\\PYZlt{}publication\\PYZus{}date}\\PY{+w}{ }\\PY{n+na}{media\\PYZus{}type=}\\PY{l+s}{\\PYZdq{}print\\PYZdq{}}\\PY{n+nt}{\\PYZgt{}}\n",
       "\\PY{+w}{            }\\PY{n+nt}{\\PYZlt{}month}\\PY{n+nt}{\\PYZgt{}}03\\PY{n+nt}{\\PYZlt{}/month\\PYZgt{}}\n",
       "\\PY{+w}{            }\\PY{n+nt}{\\PYZlt{}day}\\PY{n+nt}{\\PYZgt{}}22\\PY{n+nt}{\\PYZlt{}/day\\PYZgt{}}\n",
       "\\PY{+w}{            }\\PY{n+nt}{\\PYZlt{}year}\\PY{n+nt}{\\PYZgt{}}2017\\PY{n+nt}{\\PYZlt{}/year\\PYZgt{}}\n",
       "\\PY{+w}{          }\\PY{n+nt}{\\PYZlt{}/publication\\PYZus{}date\\PYZgt{}}\n",
       "\\PY{+w}{          }\\PY{n+nt}{\\PYZlt{}journal\\PYZus{}volume}\\PY{n+nt}{\\PYZgt{}}\n",
       "\\PY{+w}{            }\\PY{n+nt}{\\PYZlt{}volume}\\PY{n+nt}{\\PYZgt{}}16\\PY{n+nt}{\\PYZlt{}/volume\\PYZgt{}}\n",
       "\\PY{+w}{          }\\PY{n+nt}{\\PYZlt{}/journal\\PYZus{}volume\\PYZgt{}}\n",
       "\\PY{+w}{        }\\PY{n+nt}{\\PYZlt{}/journal\\PYZus{}issue\\PYZgt{}}\n",
       "\\PY{+w}{        }\\PY{n+nt}{\\PYZlt{}journal\\PYZus{}article}\\PY{+w}{ }\\PY{n+na}{publication\\PYZus{}type=}\\PY{l+s}{\\PYZdq{}full\\PYZus{}text\\PYZdq{}}\\PY{n+nt}{\\PYZgt{}}\n",
       "\\PY{+w}{          }\\PY{n+nt}{\\PYZlt{}titles}\\PY{n+nt}{\\PYZgt{}}\n",
       "\\PY{+w}{            }\\PY{n+nt}{\\PYZlt{}title}\\PY{n+nt}{\\PYZgt{}}20\\PY{+w}{ }Years\\PY{+w}{ }of\\PY{+w}{ }Persistent\\PY{+w}{ }Identifiers\\PY{+w}{ }–\\PY{+w}{ }Which\\PY{+w}{ }Systems\\PY{+w}{ }are\\PY{+w}{ }Here\\PY{+w}{ }to\\PY{+w}{ }Stay?\\PY{n+nt}{\\PYZlt{}/title\\PYZgt{}}\n",
       "\\PY{+w}{          }\\PY{n+nt}{\\PYZlt{}/titles\\PYZgt{}}\n",
       "\\PY{+w}{          }\\PY{n+nt}{\\PYZlt{}contributors}\\PY{n+nt}{\\PYZgt{}}\n",
       "\\PY{+w}{            }\\PY{n+nt}{\\PYZlt{}person\\PYZus{}name}\\PY{+w}{ }\\PY{n+na}{sequence=}\\PY{l+s}{\\PYZdq{}first\\PYZdq{}}\\PY{+w}{ }\\PY{n+na}{contributor\\PYZus{}role=}\\PY{l+s}{\\PYZdq{}author\\PYZdq{}}\\PY{n+nt}{\\PYZgt{}}\n",
       "\\PY{+w}{              }\\PY{n+nt}{\\PYZlt{}given\\PYZus{}name}\\PY{n+nt}{\\PYZgt{}}Jens\\PY{n+nt}{\\PYZlt{}/given\\PYZus{}name\\PYZgt{}}\n",
       "\\PY{+w}{              }\\PY{n+nt}{\\PYZlt{}surname}\\PY{n+nt}{\\PYZgt{}}Klump\\PY{n+nt}{\\PYZlt{}/surname\\PYZgt{}}\n",
       "\\PY{+w}{              }\\PY{n+nt}{\\PYZlt{}ORCID}\\PY{n+nt}{\\PYZgt{}}http://orcid.org/0000\\PYZhy{}0001\\PYZhy{}5911\\PYZhy{}6022\\PY{n+nt}{\\PYZlt{}/ORCID\\PYZgt{}}\n",
       "\\PY{+w}{            }\\PY{n+nt}{\\PYZlt{}/person\\PYZus{}name\\PYZgt{}}\n",
       "\\PY{+w}{            }\\PY{n+nt}{\\PYZlt{}person\\PYZus{}name}\\PY{+w}{ }\\PY{n+na}{sequence=}\\PY{l+s}{\\PYZdq{}additional\\PYZdq{}}\\PY{+w}{ }\\PY{n+na}{contributor\\PYZus{}role=}\\PY{l+s}{\\PYZdq{}author\\PYZdq{}}\\PY{n+nt}{\\PYZgt{}}\n",
       "\\PY{+w}{              }\\PY{n+nt}{\\PYZlt{}given\\PYZus{}name}\\PY{n+nt}{\\PYZgt{}}Robert\\PY{n+nt}{\\PYZlt{}/given\\PYZus{}name\\PYZgt{}}\n",
       "\\PY{+w}{              }\\PY{n+nt}{\\PYZlt{}surname}\\PY{n+nt}{\\PYZgt{}}Huber\\PY{n+nt}{\\PYZlt{}/surname\\PYZgt{}}\n",
       "\\PY{+w}{              }\\PY{n+nt}{\\PYZlt{}ORCID}\\PY{n+nt}{\\PYZgt{}}http://orcid.org/0000\\PYZhy{}0003\\PYZhy{}3000\\PYZhy{}0020\\PY{n+nt}{\\PYZlt{}/ORCID\\PYZgt{}}\n",
       "\\PY{+w}{            }\\PY{n+nt}{\\PYZlt{}/person\\PYZus{}name\\PYZgt{}}\n",
       "\\PY{+w}{          }\\PY{n+nt}{\\PYZlt{}/contributors\\PYZgt{}}\n",
       "\\PY{+w}{          }\\PY{n+nt}{\\PYZlt{}publication\\PYZus{}date}\\PY{+w}{ }\\PY{n+na}{media\\PYZus{}type=}\\PY{l+s}{\\PYZdq{}print\\PYZdq{}}\\PY{n+nt}{\\PYZgt{}}\n",
       "\\PY{+w}{            }\\PY{n+nt}{\\PYZlt{}month}\\PY{n+nt}{\\PYZgt{}}03\\PY{n+nt}{\\PYZlt{}/month\\PYZgt{}}\n",
       "\\PY{+w}{            }\\PY{n+nt}{\\PYZlt{}day}\\PY{n+nt}{\\PYZgt{}}22\\PY{n+nt}{\\PYZlt{}/day\\PYZgt{}}\n",
       "\\PY{+w}{            }\\PY{n+nt}{\\PYZlt{}year}\\PY{n+nt}{\\PYZgt{}}2017\\PY{n+nt}{\\PYZlt{}/year\\PYZgt{}}\n",
       "\\PY{+w}{          }\\PY{n+nt}{\\PYZlt{}/publication\\PYZus{}date\\PYZgt{}}\n",
       "\\PY{+w}{          }\\PY{n+nt}{\\PYZlt{}publication\\PYZus{}date}\\PY{+w}{ }\\PY{n+na}{media\\PYZus{}type=}\\PY{l+s}{\\PYZdq{}print\\PYZdq{}}\\PY{n+nt}{\\PYZgt{}}\n",
       "\\PY{+w}{            }\\PY{n+nt}{\\PYZlt{}month}\\PY{n+nt}{\\PYZgt{}}03\\PY{n+nt}{\\PYZlt{}/month\\PYZgt{}}\n",
       "\\PY{+w}{            }\\PY{n+nt}{\\PYZlt{}day}\\PY{n+nt}{\\PYZgt{}}22\\PY{n+nt}{\\PYZlt{}/day\\PYZgt{}}\n",
       "\\PY{+w}{            }\\PY{n+nt}{\\PYZlt{}year}\\PY{n+nt}{\\PYZgt{}}2017\\PY{n+nt}{\\PYZlt{}/year\\PYZgt{}}\n",
       "\\PY{+w}{          }\\PY{n+nt}{\\PYZlt{}/publication\\PYZus{}date\\PYZgt{}}\n",
       "\\PY{+w}{          }\\PY{n+nt}{\\PYZlt{}publisher\\PYZus{}item}\\PY{n+nt}{\\PYZgt{}}\n",
       "\\PY{+w}{            }\\PY{n+nt}{\\PYZlt{}item\\PYZus{}number}\\PY{+w}{ }\\PY{n+na}{item\\PYZus{}number\\PYZus{}type=}\\PY{l+s}{\\PYZdq{}article\\PYZus{}number\\PYZdq{}}\\PY{n+nt}{\\PYZgt{}}09\\PY{err}{\\PYZlt{}}/i\n",
       "\\end{Verbatim}\n"
      ],
      "text/plain": [
       "<?xml version=\"1.0\" encoding=\"UTF-8\"?>\n",
       "<doi_records>\n",
       "  <doi_record owner=\"10.5334\" timestamp=\"2022-07-11 05:19:08\">\n",
       "    <crossref>\n",
       "      <journal>\n",
       "        <journal_metadata language=\"en\">\n",
       "          <full_title>Data Science Journal</full_title>\n",
       "          <issn media_type=\"electronic\">1683-1470</issn>\n",
       "        </journal_metadata>\n",
       "        <journal_issue>\n",
       "          <publication_date media_type=\"print\">\n",
       "            <month>03</month>\n",
       "            <day>22</day>\n",
       "            <year>2017</year>\n",
       "          </publication_date>\n",
       "          <publication_date media_type=\"print\">\n",
       "            <month>03</month>\n",
       "            <day>22</day>\n",
       "            <year>2017</year>\n",
       "          </publication_date>\n",
       "          <journal_volume>\n",
       "            <volume>16</volume>\n",
       "          </journal_volume>\n",
       "        </journal_issue>\n",
       "        <journal_article publication_type=\"full_text\">\n",
       "          <titles>\n",
       "            <title>20 Years of Persistent Identifiers – Which Systems are Here to Stay?</title>\n",
       "          </titles>\n",
       "          <contributors>\n",
       "            <person_name sequence=\"first\" contributor_role=\"author\">\n",
       "              <given_name>Jens</given_name>\n",
       "              <surname>Klump</surname>\n",
       "              <ORCID>http://orcid.org/0000-0001-5911-6022</ORCID>\n",
       "            </person_name>\n",
       "            <person_name sequence=\"additional\" contributor_role=\"author\">\n",
       "              <given_name>Robert</given_name>\n",
       "              <surname>Huber</surname>\n",
       "              <ORCID>http://orcid.org/0000-0003-3000-0020</ORCID>\n",
       "            </person_name>\n",
       "          </contributors>\n",
       "          <publication_date media_type=\"print\">\n",
       "            <month>03</month>\n",
       "            <day>22</day>\n",
       "            <year>2017</year>\n",
       "          </publication_date>\n",
       "          <publication_date media_type=\"print\">\n",
       "            <month>03</month>\n",
       "            <day>22</day>\n",
       "            <year>2017</year>\n",
       "          </publication_date>\n",
       "          <publisher_item>\n",
       "            <item_number item_number_type=\"article_number\">09</i"
      ]
     },
     "execution_count": 12,
     "metadata": {},
     "output_type": "execute_result"
    }
   ],
   "source": [
    "headers = {\n",
    "    'Accept': 'application/vnd.crossref.unixref+xml'\n",
    "}\n",
    "resp = requests.get(\"https://doi.org/10.5334/dsj-2017-009\", headers = headers)\n",
    "Code(resp.text[0:2000])\n"
   ]
  },
  {
   "cell_type": "markdown",
   "metadata": {},
   "source": [
    "Returning to the DataONE example above, we now recogize that the URL for the dataset contains a DOI. This dataset was registered via Datacite, so we can  request the DataCite Kernel Metadata:"
   ]
  },
  {
   "cell_type": "code",
   "execution_count": 13,
   "metadata": {},
   "outputs": [
    {
     "data": {
      "text/html": [
       "<style>pre { line-height: 125%; }\n",
       "td.linenos .normal { color: inherit; background-color: transparent; padding-left: 5px; padding-right: 5px; }\n",
       "span.linenos { color: inherit; background-color: transparent; padding-left: 5px; padding-right: 5px; }\n",
       "td.linenos .special { color: #000000; background-color: #ffffc0; padding-left: 5px; padding-right: 5px; }\n",
       "span.linenos.special { color: #000000; background-color: #ffffc0; padding-left: 5px; padding-right: 5px; }\n",
       ".output_html .hll { background-color: #ffffcc }\n",
       ".output_html { background: #f8f8f8; }\n",
       ".output_html .c { color: #3D7B7B; font-style: italic } /* Comment */\n",
       ".output_html .err { border: 1px solid #F00 } /* Error */\n",
       ".output_html .k { color: #008000; font-weight: bold } /* Keyword */\n",
       ".output_html .o { color: #666 } /* Operator */\n",
       ".output_html .ch { color: #3D7B7B; font-style: italic } /* Comment.Hashbang */\n",
       ".output_html .cm { color: #3D7B7B; font-style: italic } /* Comment.Multiline */\n",
       ".output_html .cp { color: #9C6500 } /* Comment.Preproc */\n",
       ".output_html .cpf { color: #3D7B7B; font-style: italic } /* Comment.PreprocFile */\n",
       ".output_html .c1 { color: #3D7B7B; font-style: italic } /* Comment.Single */\n",
       ".output_html .cs { color: #3D7B7B; font-style: italic } /* Comment.Special */\n",
       ".output_html .gd { color: #A00000 } /* Generic.Deleted */\n",
       ".output_html .ge { font-style: italic } /* Generic.Emph */\n",
       ".output_html .ges { font-weight: bold; font-style: italic } /* Generic.EmphStrong */\n",
       ".output_html .gr { color: #E40000 } /* Generic.Error */\n",
       ".output_html .gh { color: #000080; font-weight: bold } /* Generic.Heading */\n",
       ".output_html .gi { color: #008400 } /* Generic.Inserted */\n",
       ".output_html .go { color: #717171 } /* Generic.Output */\n",
       ".output_html .gp { color: #000080; font-weight: bold } /* Generic.Prompt */\n",
       ".output_html .gs { font-weight: bold } /* Generic.Strong */\n",
       ".output_html .gu { color: #800080; font-weight: bold } /* Generic.Subheading */\n",
       ".output_html .gt { color: #04D } /* Generic.Traceback */\n",
       ".output_html .kc { color: #008000; font-weight: bold } /* Keyword.Constant */\n",
       ".output_html .kd { color: #008000; font-weight: bold } /* Keyword.Declaration */\n",
       ".output_html .kn { color: #008000; font-weight: bold } /* Keyword.Namespace */\n",
       ".output_html .kp { color: #008000 } /* Keyword.Pseudo */\n",
       ".output_html .kr { color: #008000; font-weight: bold } /* Keyword.Reserved */\n",
       ".output_html .kt { color: #B00040 } /* Keyword.Type */\n",
       ".output_html .m { color: #666 } /* Literal.Number */\n",
       ".output_html .s { color: #BA2121 } /* Literal.String */\n",
       ".output_html .na { color: #687822 } /* Name.Attribute */\n",
       ".output_html .nb { color: #008000 } /* Name.Builtin */\n",
       ".output_html .nc { color: #00F; font-weight: bold } /* Name.Class */\n",
       ".output_html .no { color: #800 } /* Name.Constant */\n",
       ".output_html .nd { color: #A2F } /* Name.Decorator */\n",
       ".output_html .ni { color: #717171; font-weight: bold } /* Name.Entity */\n",
       ".output_html .ne { color: #CB3F38; font-weight: bold } /* Name.Exception */\n",
       ".output_html .nf { color: #00F } /* Name.Function */\n",
       ".output_html .nl { color: #767600 } /* Name.Label */\n",
       ".output_html .nn { color: #00F; font-weight: bold } /* Name.Namespace */\n",
       ".output_html .nt { color: #008000; font-weight: bold } /* Name.Tag */\n",
       ".output_html .nv { color: #19177C } /* Name.Variable */\n",
       ".output_html .ow { color: #A2F; font-weight: bold } /* Operator.Word */\n",
       ".output_html .w { color: #BBB } /* Text.Whitespace */\n",
       ".output_html .mb { color: #666 } /* Literal.Number.Bin */\n",
       ".output_html .mf { color: #666 } /* Literal.Number.Float */\n",
       ".output_html .mh { color: #666 } /* Literal.Number.Hex */\n",
       ".output_html .mi { color: #666 } /* Literal.Number.Integer */\n",
       ".output_html .mo { color: #666 } /* Literal.Number.Oct */\n",
       ".output_html .sa { color: #BA2121 } /* Literal.String.Affix */\n",
       ".output_html .sb { color: #BA2121 } /* Literal.String.Backtick */\n",
       ".output_html .sc { color: #BA2121 } /* Literal.String.Char */\n",
       ".output_html .dl { color: #BA2121 } /* Literal.String.Delimiter */\n",
       ".output_html .sd { color: #BA2121; font-style: italic } /* Literal.String.Doc */\n",
       ".output_html .s2 { color: #BA2121 } /* Literal.String.Double */\n",
       ".output_html .se { color: #AA5D1F; font-weight: bold } /* Literal.String.Escape */\n",
       ".output_html .sh { color: #BA2121 } /* Literal.String.Heredoc */\n",
       ".output_html .si { color: #A45A77; font-weight: bold } /* Literal.String.Interpol */\n",
       ".output_html .sx { color: #008000 } /* Literal.String.Other */\n",
       ".output_html .sr { color: #A45A77 } /* Literal.String.Regex */\n",
       ".output_html .s1 { color: #BA2121 } /* Literal.String.Single */\n",
       ".output_html .ss { color: #19177C } /* Literal.String.Symbol */\n",
       ".output_html .bp { color: #008000 } /* Name.Builtin.Pseudo */\n",
       ".output_html .fm { color: #00F } /* Name.Function.Magic */\n",
       ".output_html .vc { color: #19177C } /* Name.Variable.Class */\n",
       ".output_html .vg { color: #19177C } /* Name.Variable.Global */\n",
       ".output_html .vi { color: #19177C } /* Name.Variable.Instance */\n",
       ".output_html .vm { color: #19177C } /* Name.Variable.Magic */\n",
       ".output_html .il { color: #666 } /* Literal.Number.Integer.Long */</style><div class=\"highlight\"><pre><span></span><span class=\"p\">{</span>\n",
       "<span class=\"w\">  </span><span class=\"s2\">&quot;id&quot;</span><span class=\"p\">:</span><span class=\"w\"> </span><span class=\"s2\">&quot;https://doi.org/10.18739/a20z70z1h&quot;</span><span class=\"p\">,</span>\n",
       "<span class=\"w\">  </span><span class=\"s2\">&quot;doi&quot;</span><span class=\"p\">:</span><span class=\"w\"> </span><span class=\"s2\">&quot;10.18739/A20Z70Z1H&quot;</span><span class=\"p\">,</span>\n",
       "<span class=\"w\">  </span><span class=\"s2\">&quot;url&quot;</span><span class=\"p\">:</span><span class=\"w\"> </span><span class=\"s2\">&quot;https://arcticdata.io/catalog/view/doi:10.18739/A20Z70Z1H&quot;</span><span class=\"p\">,</span>\n",
       "<span class=\"w\">  </span><span class=\"s2\">&quot;types&quot;</span><span class=\"p\">:</span><span class=\"w\"> </span><span class=\"p\">{</span>\n",
       "<span class=\"w\">    </span><span class=\"s2\">&quot;ris&quot;</span><span class=\"p\">:</span><span class=\"w\"> </span><span class=\"s2\">&quot;DATA&quot;</span><span class=\"p\">,</span>\n",
       "<span class=\"w\">    </span><span class=\"s2\">&quot;bibtex&quot;</span><span class=\"p\">:</span><span class=\"w\"> </span><span class=\"s2\">&quot;misc&quot;</span><span class=\"p\">,</span>\n",
       "<span class=\"w\">    </span><span class=\"s2\">&quot;citeproc&quot;</span><span class=\"p\">:</span><span class=\"w\"> </span><span class=\"s2\">&quot;dataset&quot;</span><span class=\"p\">,</span>\n",
       "<span class=\"w\">    </span><span class=\"s2\">&quot;schemaOrg&quot;</span><span class=\"p\">:</span><span class=\"w\"> </span><span class=\"s2\">&quot;Dataset&quot;</span><span class=\"p\">,</span>\n",
       "<span class=\"w\">    </span><span class=\"s2\">&quot;resourceTypeGeneral&quot;</span><span class=\"p\">:</span><span class=\"w\"> </span><span class=\"s2\">&quot;Dataset&quot;</span>\n",
       "<span class=\"w\">  </span><span class=\"p\">},</span>\n",
       "<span class=\"w\">  </span><span class=\"s2\">&quot;creators&quot;</span><span class=\"p\">:</span><span class=\"w\"> </span><span class=\"p\">[</span>\n",
       "<span class=\"w\">    </span><span class=\"p\">{</span>\n",
       "<span class=\"w\">      </span><span class=\"s2\">&quot;name&quot;</span><span class=\"p\">:</span><span class=\"w\"> </span><span class=\"s2\">&quot;Zona, Donatella&quot;</span><span class=\"p\">,</span>\n",
       "<span class=\"w\">      </span><span class=\"s2\">&quot;nameType&quot;</span><span class=\"p\">:</span><span class=\"w\"> </span><span class=\"s2\">&quot;Personal&quot;</span><span class=\"p\">,</span>\n",
       "<span class=\"w\">      </span><span class=\"s2\">&quot;givenName&quot;</span><span class=\"p\">:</span><span class=\"w\"> </span><span class=\"s2\">&quot;Donatella&quot;</span><span class=\"p\">,</span>\n",
       "<span class=\"w\">      </span><span class=\"s2\">&quot;familyName&quot;</span><span class=\"p\">:</span><span class=\"w\"> </span><span class=\"s2\">&quot;Zona&quot;</span><span class=\"p\">,</span>\n",
       "<span class=\"w\">      </span><span class=\"s2\">&quot;affiliation&quot;</span><span class=\"p\">:</span><span class=\"w\"> </span><span class=\"p\">[</span>\n",
       "<span class=\"w\">        </span><span class=\"p\">{</span>\n",
       "<span class=\"w\">          </span><span class=\"s2\">&quot;name&quot;</span><span class=\"p\">:</span><span class=\"w\"> </span><span class=\"s2\">&quot;San Diego State University&quot;</span>\n",
       "<span class=\"w\">        </span><span class=\"p\">}</span>\n",
       "<span class=\"w\">      </span><span class=\"p\">],</span>\n",
       "<span class=\"w\">      </span><span class=\"s2\">&quot;nameIdentifiers&quot;</span><span class=\"p\">:</span><span class=\"w\"> </span><span class=\"p\">[</span>\n",
       "<span class=\"w\">        </span><span class=\"p\">{</span>\n",
       "<span class=\"w\">          </span><span class=\"s2\">&quot;schemeUri&quot;</span><span class=\"p\">:</span><span class=\"w\"> </span><span class=\"s2\">&quot;https://orcid.org&quot;</span><span class=\"p\">,</span>\n",
       "<span class=\"w\">          </span><span class=\"s2\">&quot;nameIdentifier&quot;</span><span class=\"p\">:</span><span class=\"w\"> </span><span class=\"s2\">&quot;https://orcid.org/0000-0002-0003-4839&quot;</span><span class=\"p\">,</span>\n",
       "<span class=\"w\">          </span><span class=\"s2\">&quot;nameIdentifierScheme&quot;</span><span class=\"p\">:</span><span class=\"w\"> </span><span class=\"s2\">&quot;ORCID&quot;</span>\n",
       "<span class=\"w\">        </span><span class=\"p\">}</span>\n",
       "<span class=\"w\">      </span><span class=\"p\">]</span>\n",
       "<span class=\"w\">    </span><span class=\"p\">}</span>\n",
       "<span class=\"w\">  </span><span class=\"p\">],</span>\n",
       "<span class=\"w\">  </span><span class=\"s2\">&quot;titles&quot;</span><span class=\"p\">:</span><span class=\"w\"> </span><span class=\"p\">[</span>\n",
       "<span class=\"w\">    </span><span class=\"p\">{</span>\n",
       "<span class=\"w\">      </span><span class=\"s2\">&quot;lang&quot;</span><span class=\"p\">:</span><span class=\"w\"> </span><span class=\"s2\">&quot;en&quot;</span><span class=\"p\">,</span>\n",
       "<span class=\"w\">      </span><span class=\"s2\">&quot;title&quot;</span><span class=\"p\">:</span><span class=\"w\"> </span><span class=\"s2\">&quot;Greenhouse gas flux measurements at the zero curtain, North Slope, Alaska, 2012-2024&quot;</span>\n",
       "<span class=\"w\">    </span><span class=\"p\">}</span>\n",
       "<span class=\"w\">  </span><span class=\"p\">],</span>\n",
       "<span class=\"w\">  </span><span class=\"s2\">&quot;publisher&quot;</span><span class=\"p\">:</span><span class=\"w\"> </span><span class=\"p\">{</span>\n",
       "<span class=\"w\">    </span><span class=\"s2\">&quot;name&quot;</span><span class=\"p\">:</span><span class=\"w\"> </span><span class=\"s2\">&quot;NSF Arctic Data Center&quot;</span>\n",
       "<span class=\"w\">  </span><span class=\"p\">},</span>\n",
       "<span class=\"w\">  </span><span class=\"s2\">&quot;container&quot;</span><span class=\"p\">:</span><span class=\"w\"> </span><span class=\"p\">{},</span>\n",
       "<span class=\"w\">  </span><span class=\"s2\">&quot;subjects&quot;</span><span class=\"p\">:</span><span class=\"w\"> </span><span class=\"p\">[</span>\n",
       "<span class=\"w\">    </span><span class=\"p\">{</span>\n",
       "<span class=\"w\">      </span><span class=\"s2\">&quot;lang&quot;</span><span class=\"p\">:</span><span class=\"w\"> </span><span class=\"s2\">&quot;en&quot;</span><span class=\"p\">,</span>\n",
       "<span class=\"w\">      </span><span class=\"s2\">&quot;subject&quot;</span><span class=\"p\">:</span><span class=\"w\"> </span><span class=\"s2\">&quot;carbon fluxes&quot;</span>\n",
       "<span class=\"w\">    </span><span class=\"p\">},</span>\n",
       "<span class=\"w\">    </span><span class=\"p\">{</span>\n",
       "<span class=\"w\">      </span><span class=\"s2\">&quot;lang&quot;</span><span class=\"p\">:</span><span class=\"w\"> </span><span class=\"s2\">&quot;en&quot;</span><span class=\"p\">,</span>\n",
       "<span class=\"w\">      </span><span class=\"s2\">&quot;subject&quot;</span><span class=\"p\">:</span><span class=\"w\"> </span><span class=\"s2\">&quot;methane fluxes&quot;</span>\n",
       "<span class=\"w\">    </span><span class=\"p\">}</span>\n",
       "<span class=\"w\">  </span><span class=\"p\">],</span>\n",
       "<span class=\"w\">  </span><span class=\"s2\">&quot;contributors&quot;</span><span class=\"p\">:</span><span class=\"w\"> </span><span class=\"p\">[],</span>\n",
       "<span class=\"w\">  </span><span class=\"s2\">&quot;dates&quot;</span><span class=\"p\">:</span><span class=\"w\"> </span><span class=\"p\">[</span>\n",
       "<span class=\"w\">    </span><span class=\"p\">{</span>\n",
       "<span class=\"w\">      </span><span class=\"s2\">&quot;date&quot;</span><span class=\"p\">:</span><span class=\"w\"> </span><span class=\"s2\">&quot;2024&quot;</span><span class=\"p\">,</span>\n",
       "<span class=\"w\">      </span><span class=\"s2\">&quot;dateType&quot;</span><span class=\"p\">:</span><span class=\"w\"> </span><span class=\"s2\">&quot;Issued&quot;</span>\n",
       "<span class=\"w\">    </span><span class=\"p\">}</span>\n",
       "<span class=\"w\">  </span><span class=\"p\">],</span>\n",
       "<span class=\"w\">  </span><span class=\"s2\">&quot;publicationYear&quot;</span><span class=\"p\">:</span><span class=\"w\"> </span><span class=\"mi\">2024</span><span class=\"p\">,</span>\n",
       "<span class=\"w\">  </span><span class=\"s2\">&quot;language&quot;</span><span class=\"p\">:</span><span class=\"w\"> </span><span class=\"s2\">&quot;en&quot;</span><span class=\"p\">,</span>\n",
       "<span class=\"w\">  </span><span class=\"s2\">&quot;identifiers&quot;</span><span class=\"p\">:</span><span class=\"w\"> </span><span class=\"p\">[],</span>\n",
       "<span class=\"w\">  </span><span class=\"s2\">&quot;sizes&quot;</span><span class=\"p\">:</span><span class=\"w\"> </span><span class=\"p\">[],</span>\n",
       "<span class=\"w\">  </span><span class=\"s2\">&quot;formats&quot;</span><span class=\"p\">:</span><span class=\"w\"> </span><span class=\"p\">[</span>\n",
       "<span class=\"w\">    </span><span class=\"s2\">&quot;text/xml&quot;</span>\n",
       "<span class=\"w\">  </span><span class=\"p\">],</span>\n",
       "<span class=\"w\">  </span><span class=\"s2\">&quot;rightsList&quot;</span><span class=\"p\">:</span><span class=\"w\"> </span><span class=\"p\">[],</span>\n",
       "<span class=\"w\">  </span><span class=\"s2\">&quot;descriptions&quot;</span><span class=\"p\">:</span><span class=\"w\"> </span><span class=\"p\">[</span>\n",
       "<span class=\"w\">    </span><span class=\"p\">{</span>\n",
       "<span class=\"w\">      </span><span class=\"s2\">&quot;lang&quot;</span><span class=\"p\">:</span><span class=\"w\"> </span><span class=\"s2\">&quot;en&quot;</span><span class=\"p\">,</span>\n",
       "<span class=\"w\">      </span><span class=\"s2\">&quot;description&quot;</span><span class=\"p\">:</span><span class=\"w\"> </span><span class=\"s2\">&quot;Overview- This project proposes to create a long-term, year-round field observations to better understand the controls on greenhouse gas (GHG) emissions from the Arctic at time scales that will encompass significant climate change and variability. Research over decadal time frames is critical for understanding the effect of climate variability and change on carbon dioxide (CO2) and methane (CH4) fluxes and to provide the baseline needed to evaluate temporal changes. This is particularly relevant in arctic ecosystems where the large spatial heterogeneity prevents using nearby stations to build a time series in the GHG emissions, given that fluxes can vary substantially over the meter scale. This project will allow creating the longest running year-round Arctic eddy covariance network, and to standardize, upgrade, and apply the network to improve understanding of the long-term effects of climate variability and change on trace gas feedbacks from the Arctic. This project will make existing data more useful and relevant and will expand an already large user base. A special emphasis will be on the fall zero curtain period when an unfrozen soil layer hovers around 0°Celsius (C) supporting significant CO2 and CH4 releases to the atmosphere, and the entire cold season (Zona et al., 2016). Zero curtain processes plausibly explain how upland tundra can be a larger emitter of CH4 than low-lying, wet tundra, and how the cold seasons might emit more CH4 than the summer season (Zona et al., 2016, Commane et al., 2017). At present, however, cold season observations are too short to adequately test hypotheses concerning the controlling mechanisms or to develop understanding that allows us to predict, with confidence, future CO2 and CH4 fluxes form the Arctic. Five Arctic eddy covariance flux towers will be used to evaluate the long term changes in the CO2 and CH4 fluxes across three moisture environments in Barrow (recently renamed as Utqiaġvik) (CMDL (Climate Monitoring and Diagnostics Laboratory), BEO (Barrow Environmental Observatory), and BES (Biocomplexity Experiment South) towers) and a ~300km latitudinal gradient passing through Atqasuk (ATQ) and culminating in Ivotuk (IVO). These measurements are intended to be of sufficient duration and breadth to capture and interpret the effect of extreme and/or unexpected events on GHG fluxes in the Arctic. The support from this grant would allow expansion of the time series to a more than 20-year record of CO2 and 11-year record of CH4 fluxes, resulting in an unprecedented dataset, critical to refining our analytical and predictive ability of the controls of CH4 loss from the Arctic.&quot;</span><span class=\"p\">,</span>\n",
       "<span class=\"w\">      </span><span class=\"s2\">&quot;descriptionType&quot;</span><span class=\"p\">:</span><span class=\"w\"> </span><span class=\"s2\">&quot;Abstract&quot;</span>\n",
       "<span class=\"w\">    </span><span class=\"p\">}</span>\n",
       "<span class=\"w\">  </span><span class=\"p\">],</span>\n",
       "<span class=\"w\">  </span><span class=\"s2\">&quot;geoLocations&quot;</span><span class=\"p\">:</span><span class=\"w\"> </span><span class=\"p\">[],</span>\n",
       "<span class=\"w\">  </span><span class=\"s2\">&quot;fundingReferences&quot;</span><span class=\"p\">:</span><span class=\"w\"> </span><span class=\"p\">[],</span>\n",
       "<span class=\"w\">  </span><span class=\"s2\">&quot;relatedIdentifiers&quot;</span><span class=\"p\">:</span><span class=\"w\"> </span><span class=\"p\">[],</span>\n",
       "<span class=\"w\">  </span><span class=\"s2\">&quot;relatedItems&quot;</span><span class=\"p\">:</span><span class=\"w\"> </span><span class=\"p\">[],</span>\n",
       "<span class=\"w\">  </span><span class=\"s2\">&quot;schemaVersion&quot;</span><span class=\"p\">:</span><span class=\"w\"> </span><span class=\"s2\">&quot;http://datacite.org/schema/kernel-4&quot;</span><span class=\"p\">,</span>\n",
       "<span class=\"w\">  </span><span class=\"s2\">&quot;providerId&quot;</span><span class=\"p\">:</span><span class=\"w\"> </span><span class=\"s2\">&quot;njqd&quot;</span><span class=\"p\">,</span>\n",
       "<span class=\"w\">  </span><span class=\"s2\">&quot;clientId&quot;</span><span class=\"p\">:</span><span class=\"w\"> </span><span class=\"s2\">&quot;cdl.ucsb&quot;</span><span class=\"p\">,</span>\n",
       "<span class=\"w\">  </span><span class=\"s2\">&quot;agency&quot;</span><span class=\"p\">:</span><span class=\"w\"> </span><span class=\"s2\">&quot;datacite&quot;</span><span class=\"p\">,</span>\n",
       "<span class=\"w\">  </span><span class=\"s2\">&quot;state&quot;</span><span class=\"p\">:</span><span class=\"w\"> </span><span class=\"s2\">&quot;findable&quot;</span>\n",
       "<span class=\"p\">}</span>\n",
       "</pre></div>\n"
      ],
      "text/latex": [
       "\\begin{Verbatim}[commandchars=\\\\\\{\\}]\n",
       "\\PY{p}{\\PYZob{}}\n",
       "\\PY{+w}{  }\\PY{l+s+s2}{\\PYZdq{}}\\PY{l+s+s2}{id}\\PY{l+s+s2}{\\PYZdq{}}\\PY{p}{:}\\PY{+w}{ }\\PY{l+s+s2}{\\PYZdq{}}\\PY{l+s+s2}{https://doi.org/10.18739/a20z70z1h}\\PY{l+s+s2}{\\PYZdq{}}\\PY{p}{,}\n",
       "\\PY{+w}{  }\\PY{l+s+s2}{\\PYZdq{}}\\PY{l+s+s2}{doi}\\PY{l+s+s2}{\\PYZdq{}}\\PY{p}{:}\\PY{+w}{ }\\PY{l+s+s2}{\\PYZdq{}}\\PY{l+s+s2}{10.18739/A20Z70Z1H}\\PY{l+s+s2}{\\PYZdq{}}\\PY{p}{,}\n",
       "\\PY{+w}{  }\\PY{l+s+s2}{\\PYZdq{}}\\PY{l+s+s2}{url}\\PY{l+s+s2}{\\PYZdq{}}\\PY{p}{:}\\PY{+w}{ }\\PY{l+s+s2}{\\PYZdq{}}\\PY{l+s+s2}{https://arcticdata.io/catalog/view/doi:10.18739/A20Z70Z1H}\\PY{l+s+s2}{\\PYZdq{}}\\PY{p}{,}\n",
       "\\PY{+w}{  }\\PY{l+s+s2}{\\PYZdq{}}\\PY{l+s+s2}{types}\\PY{l+s+s2}{\\PYZdq{}}\\PY{p}{:}\\PY{+w}{ }\\PY{p}{\\PYZob{}}\n",
       "\\PY{+w}{    }\\PY{l+s+s2}{\\PYZdq{}}\\PY{l+s+s2}{ris}\\PY{l+s+s2}{\\PYZdq{}}\\PY{p}{:}\\PY{+w}{ }\\PY{l+s+s2}{\\PYZdq{}}\\PY{l+s+s2}{DATA}\\PY{l+s+s2}{\\PYZdq{}}\\PY{p}{,}\n",
       "\\PY{+w}{    }\\PY{l+s+s2}{\\PYZdq{}}\\PY{l+s+s2}{bibtex}\\PY{l+s+s2}{\\PYZdq{}}\\PY{p}{:}\\PY{+w}{ }\\PY{l+s+s2}{\\PYZdq{}}\\PY{l+s+s2}{misc}\\PY{l+s+s2}{\\PYZdq{}}\\PY{p}{,}\n",
       "\\PY{+w}{    }\\PY{l+s+s2}{\\PYZdq{}}\\PY{l+s+s2}{citeproc}\\PY{l+s+s2}{\\PYZdq{}}\\PY{p}{:}\\PY{+w}{ }\\PY{l+s+s2}{\\PYZdq{}}\\PY{l+s+s2}{dataset}\\PY{l+s+s2}{\\PYZdq{}}\\PY{p}{,}\n",
       "\\PY{+w}{    }\\PY{l+s+s2}{\\PYZdq{}}\\PY{l+s+s2}{schemaOrg}\\PY{l+s+s2}{\\PYZdq{}}\\PY{p}{:}\\PY{+w}{ }\\PY{l+s+s2}{\\PYZdq{}}\\PY{l+s+s2}{Dataset}\\PY{l+s+s2}{\\PYZdq{}}\\PY{p}{,}\n",
       "\\PY{+w}{    }\\PY{l+s+s2}{\\PYZdq{}}\\PY{l+s+s2}{resourceTypeGeneral}\\PY{l+s+s2}{\\PYZdq{}}\\PY{p}{:}\\PY{+w}{ }\\PY{l+s+s2}{\\PYZdq{}}\\PY{l+s+s2}{Dataset}\\PY{l+s+s2}{\\PYZdq{}}\n",
       "\\PY{+w}{  }\\PY{p}{\\PYZcb{}}\\PY{p}{,}\n",
       "\\PY{+w}{  }\\PY{l+s+s2}{\\PYZdq{}}\\PY{l+s+s2}{creators}\\PY{l+s+s2}{\\PYZdq{}}\\PY{p}{:}\\PY{+w}{ }\\PY{p}{[}\n",
       "\\PY{+w}{    }\\PY{p}{\\PYZob{}}\n",
       "\\PY{+w}{      }\\PY{l+s+s2}{\\PYZdq{}}\\PY{l+s+s2}{name}\\PY{l+s+s2}{\\PYZdq{}}\\PY{p}{:}\\PY{+w}{ }\\PY{l+s+s2}{\\PYZdq{}}\\PY{l+s+s2}{Zona, Donatella}\\PY{l+s+s2}{\\PYZdq{}}\\PY{p}{,}\n",
       "\\PY{+w}{      }\\PY{l+s+s2}{\\PYZdq{}}\\PY{l+s+s2}{nameType}\\PY{l+s+s2}{\\PYZdq{}}\\PY{p}{:}\\PY{+w}{ }\\PY{l+s+s2}{\\PYZdq{}}\\PY{l+s+s2}{Personal}\\PY{l+s+s2}{\\PYZdq{}}\\PY{p}{,}\n",
       "\\PY{+w}{      }\\PY{l+s+s2}{\\PYZdq{}}\\PY{l+s+s2}{givenName}\\PY{l+s+s2}{\\PYZdq{}}\\PY{p}{:}\\PY{+w}{ }\\PY{l+s+s2}{\\PYZdq{}}\\PY{l+s+s2}{Donatella}\\PY{l+s+s2}{\\PYZdq{}}\\PY{p}{,}\n",
       "\\PY{+w}{      }\\PY{l+s+s2}{\\PYZdq{}}\\PY{l+s+s2}{familyName}\\PY{l+s+s2}{\\PYZdq{}}\\PY{p}{:}\\PY{+w}{ }\\PY{l+s+s2}{\\PYZdq{}}\\PY{l+s+s2}{Zona}\\PY{l+s+s2}{\\PYZdq{}}\\PY{p}{,}\n",
       "\\PY{+w}{      }\\PY{l+s+s2}{\\PYZdq{}}\\PY{l+s+s2}{affiliation}\\PY{l+s+s2}{\\PYZdq{}}\\PY{p}{:}\\PY{+w}{ }\\PY{p}{[}\n",
       "\\PY{+w}{        }\\PY{p}{\\PYZob{}}\n",
       "\\PY{+w}{          }\\PY{l+s+s2}{\\PYZdq{}}\\PY{l+s+s2}{name}\\PY{l+s+s2}{\\PYZdq{}}\\PY{p}{:}\\PY{+w}{ }\\PY{l+s+s2}{\\PYZdq{}}\\PY{l+s+s2}{San Diego State University}\\PY{l+s+s2}{\\PYZdq{}}\n",
       "\\PY{+w}{        }\\PY{p}{\\PYZcb{}}\n",
       "\\PY{+w}{      }\\PY{p}{]}\\PY{p}{,}\n",
       "\\PY{+w}{      }\\PY{l+s+s2}{\\PYZdq{}}\\PY{l+s+s2}{nameIdentifiers}\\PY{l+s+s2}{\\PYZdq{}}\\PY{p}{:}\\PY{+w}{ }\\PY{p}{[}\n",
       "\\PY{+w}{        }\\PY{p}{\\PYZob{}}\n",
       "\\PY{+w}{          }\\PY{l+s+s2}{\\PYZdq{}}\\PY{l+s+s2}{schemeUri}\\PY{l+s+s2}{\\PYZdq{}}\\PY{p}{:}\\PY{+w}{ }\\PY{l+s+s2}{\\PYZdq{}}\\PY{l+s+s2}{https://orcid.org}\\PY{l+s+s2}{\\PYZdq{}}\\PY{p}{,}\n",
       "\\PY{+w}{          }\\PY{l+s+s2}{\\PYZdq{}}\\PY{l+s+s2}{nameIdentifier}\\PY{l+s+s2}{\\PYZdq{}}\\PY{p}{:}\\PY{+w}{ }\\PY{l+s+s2}{\\PYZdq{}}\\PY{l+s+s2}{https://orcid.org/0000\\PYZhy{}0002\\PYZhy{}0003\\PYZhy{}4839}\\PY{l+s+s2}{\\PYZdq{}}\\PY{p}{,}\n",
       "\\PY{+w}{          }\\PY{l+s+s2}{\\PYZdq{}}\\PY{l+s+s2}{nameIdentifierScheme}\\PY{l+s+s2}{\\PYZdq{}}\\PY{p}{:}\\PY{+w}{ }\\PY{l+s+s2}{\\PYZdq{}}\\PY{l+s+s2}{ORCID}\\PY{l+s+s2}{\\PYZdq{}}\n",
       "\\PY{+w}{        }\\PY{p}{\\PYZcb{}}\n",
       "\\PY{+w}{      }\\PY{p}{]}\n",
       "\\PY{+w}{    }\\PY{p}{\\PYZcb{}}\n",
       "\\PY{+w}{  }\\PY{p}{]}\\PY{p}{,}\n",
       "\\PY{+w}{  }\\PY{l+s+s2}{\\PYZdq{}}\\PY{l+s+s2}{titles}\\PY{l+s+s2}{\\PYZdq{}}\\PY{p}{:}\\PY{+w}{ }\\PY{p}{[}\n",
       "\\PY{+w}{    }\\PY{p}{\\PYZob{}}\n",
       "\\PY{+w}{      }\\PY{l+s+s2}{\\PYZdq{}}\\PY{l+s+s2}{lang}\\PY{l+s+s2}{\\PYZdq{}}\\PY{p}{:}\\PY{+w}{ }\\PY{l+s+s2}{\\PYZdq{}}\\PY{l+s+s2}{en}\\PY{l+s+s2}{\\PYZdq{}}\\PY{p}{,}\n",
       "\\PY{+w}{      }\\PY{l+s+s2}{\\PYZdq{}}\\PY{l+s+s2}{title}\\PY{l+s+s2}{\\PYZdq{}}\\PY{p}{:}\\PY{+w}{ }\\PY{l+s+s2}{\\PYZdq{}}\\PY{l+s+s2}{Greenhouse gas flux measurements at the zero curtain, North Slope, Alaska, 2012\\PYZhy{}2024}\\PY{l+s+s2}{\\PYZdq{}}\n",
       "\\PY{+w}{    }\\PY{p}{\\PYZcb{}}\n",
       "\\PY{+w}{  }\\PY{p}{]}\\PY{p}{,}\n",
       "\\PY{+w}{  }\\PY{l+s+s2}{\\PYZdq{}}\\PY{l+s+s2}{publisher}\\PY{l+s+s2}{\\PYZdq{}}\\PY{p}{:}\\PY{+w}{ }\\PY{p}{\\PYZob{}}\n",
       "\\PY{+w}{    }\\PY{l+s+s2}{\\PYZdq{}}\\PY{l+s+s2}{name}\\PY{l+s+s2}{\\PYZdq{}}\\PY{p}{:}\\PY{+w}{ }\\PY{l+s+s2}{\\PYZdq{}}\\PY{l+s+s2}{NSF Arctic Data Center}\\PY{l+s+s2}{\\PYZdq{}}\n",
       "\\PY{+w}{  }\\PY{p}{\\PYZcb{}}\\PY{p}{,}\n",
       "\\PY{+w}{  }\\PY{l+s+s2}{\\PYZdq{}}\\PY{l+s+s2}{container}\\PY{l+s+s2}{\\PYZdq{}}\\PY{p}{:}\\PY{+w}{ }\\PY{p}{\\PYZob{}}\\PY{p}{\\PYZcb{}}\\PY{p}{,}\n",
       "\\PY{+w}{  }\\PY{l+s+s2}{\\PYZdq{}}\\PY{l+s+s2}{subjects}\\PY{l+s+s2}{\\PYZdq{}}\\PY{p}{:}\\PY{+w}{ }\\PY{p}{[}\n",
       "\\PY{+w}{    }\\PY{p}{\\PYZob{}}\n",
       "\\PY{+w}{      }\\PY{l+s+s2}{\\PYZdq{}}\\PY{l+s+s2}{lang}\\PY{l+s+s2}{\\PYZdq{}}\\PY{p}{:}\\PY{+w}{ }\\PY{l+s+s2}{\\PYZdq{}}\\PY{l+s+s2}{en}\\PY{l+s+s2}{\\PYZdq{}}\\PY{p}{,}\n",
       "\\PY{+w}{      }\\PY{l+s+s2}{\\PYZdq{}}\\PY{l+s+s2}{subject}\\PY{l+s+s2}{\\PYZdq{}}\\PY{p}{:}\\PY{+w}{ }\\PY{l+s+s2}{\\PYZdq{}}\\PY{l+s+s2}{carbon fluxes}\\PY{l+s+s2}{\\PYZdq{}}\n",
       "\\PY{+w}{    }\\PY{p}{\\PYZcb{}}\\PY{p}{,}\n",
       "\\PY{+w}{    }\\PY{p}{\\PYZob{}}\n",
       "\\PY{+w}{      }\\PY{l+s+s2}{\\PYZdq{}}\\PY{l+s+s2}{lang}\\PY{l+s+s2}{\\PYZdq{}}\\PY{p}{:}\\PY{+w}{ }\\PY{l+s+s2}{\\PYZdq{}}\\PY{l+s+s2}{en}\\PY{l+s+s2}{\\PYZdq{}}\\PY{p}{,}\n",
       "\\PY{+w}{      }\\PY{l+s+s2}{\\PYZdq{}}\\PY{l+s+s2}{subject}\\PY{l+s+s2}{\\PYZdq{}}\\PY{p}{:}\\PY{+w}{ }\\PY{l+s+s2}{\\PYZdq{}}\\PY{l+s+s2}{methane fluxes}\\PY{l+s+s2}{\\PYZdq{}}\n",
       "\\PY{+w}{    }\\PY{p}{\\PYZcb{}}\n",
       "\\PY{+w}{  }\\PY{p}{]}\\PY{p}{,}\n",
       "\\PY{+w}{  }\\PY{l+s+s2}{\\PYZdq{}}\\PY{l+s+s2}{contributors}\\PY{l+s+s2}{\\PYZdq{}}\\PY{p}{:}\\PY{+w}{ }\\PY{p}{[}\\PY{p}{]}\\PY{p}{,}\n",
       "\\PY{+w}{  }\\PY{l+s+s2}{\\PYZdq{}}\\PY{l+s+s2}{dates}\\PY{l+s+s2}{\\PYZdq{}}\\PY{p}{:}\\PY{+w}{ }\\PY{p}{[}\n",
       "\\PY{+w}{    }\\PY{p}{\\PYZob{}}\n",
       "\\PY{+w}{      }\\PY{l+s+s2}{\\PYZdq{}}\\PY{l+s+s2}{date}\\PY{l+s+s2}{\\PYZdq{}}\\PY{p}{:}\\PY{+w}{ }\\PY{l+s+s2}{\\PYZdq{}}\\PY{l+s+s2}{2024}\\PY{l+s+s2}{\\PYZdq{}}\\PY{p}{,}\n",
       "\\PY{+w}{      }\\PY{l+s+s2}{\\PYZdq{}}\\PY{l+s+s2}{dateType}\\PY{l+s+s2}{\\PYZdq{}}\\PY{p}{:}\\PY{+w}{ }\\PY{l+s+s2}{\\PYZdq{}}\\PY{l+s+s2}{Issued}\\PY{l+s+s2}{\\PYZdq{}}\n",
       "\\PY{+w}{    }\\PY{p}{\\PYZcb{}}\n",
       "\\PY{+w}{  }\\PY{p}{]}\\PY{p}{,}\n",
       "\\PY{+w}{  }\\PY{l+s+s2}{\\PYZdq{}}\\PY{l+s+s2}{publicationYear}\\PY{l+s+s2}{\\PYZdq{}}\\PY{p}{:}\\PY{+w}{ }\\PY{l+m+mi}{2024}\\PY{p}{,}\n",
       "\\PY{+w}{  }\\PY{l+s+s2}{\\PYZdq{}}\\PY{l+s+s2}{language}\\PY{l+s+s2}{\\PYZdq{}}\\PY{p}{:}\\PY{+w}{ }\\PY{l+s+s2}{\\PYZdq{}}\\PY{l+s+s2}{en}\\PY{l+s+s2}{\\PYZdq{}}\\PY{p}{,}\n",
       "\\PY{+w}{  }\\PY{l+s+s2}{\\PYZdq{}}\\PY{l+s+s2}{identifiers}\\PY{l+s+s2}{\\PYZdq{}}\\PY{p}{:}\\PY{+w}{ }\\PY{p}{[}\\PY{p}{]}\\PY{p}{,}\n",
       "\\PY{+w}{  }\\PY{l+s+s2}{\\PYZdq{}}\\PY{l+s+s2}{sizes}\\PY{l+s+s2}{\\PYZdq{}}\\PY{p}{:}\\PY{+w}{ }\\PY{p}{[}\\PY{p}{]}\\PY{p}{,}\n",
       "\\PY{+w}{  }\\PY{l+s+s2}{\\PYZdq{}}\\PY{l+s+s2}{formats}\\PY{l+s+s2}{\\PYZdq{}}\\PY{p}{:}\\PY{+w}{ }\\PY{p}{[}\n",
       "\\PY{+w}{    }\\PY{l+s+s2}{\\PYZdq{}}\\PY{l+s+s2}{text/xml}\\PY{l+s+s2}{\\PYZdq{}}\n",
       "\\PY{+w}{  }\\PY{p}{]}\\PY{p}{,}\n",
       "\\PY{+w}{  }\\PY{l+s+s2}{\\PYZdq{}}\\PY{l+s+s2}{rightsList}\\PY{l+s+s2}{\\PYZdq{}}\\PY{p}{:}\\PY{+w}{ }\\PY{p}{[}\\PY{p}{]}\\PY{p}{,}\n",
       "\\PY{+w}{  }\\PY{l+s+s2}{\\PYZdq{}}\\PY{l+s+s2}{descriptions}\\PY{l+s+s2}{\\PYZdq{}}\\PY{p}{:}\\PY{+w}{ }\\PY{p}{[}\n",
       "\\PY{+w}{    }\\PY{p}{\\PYZob{}}\n",
       "\\PY{+w}{      }\\PY{l+s+s2}{\\PYZdq{}}\\PY{l+s+s2}{lang}\\PY{l+s+s2}{\\PYZdq{}}\\PY{p}{:}\\PY{+w}{ }\\PY{l+s+s2}{\\PYZdq{}}\\PY{l+s+s2}{en}\\PY{l+s+s2}{\\PYZdq{}}\\PY{p}{,}\n",
       "\\PY{+w}{      }\\PY{l+s+s2}{\\PYZdq{}}\\PY{l+s+s2}{description}\\PY{l+s+s2}{\\PYZdq{}}\\PY{p}{:}\\PY{+w}{ }\\PY{l+s+s2}{\\PYZdq{}}\\PY{l+s+s2}{Overview\\PYZhy{} This project proposes to create a long\\PYZhy{}term, year\\PYZhy{}round field observations to better understand the controls on greenhouse gas (GHG) emissions from the Arctic at time scales that will encompass significant climate change and variability. Research over decadal time frames is critical for understanding the effect of climate variability and change on carbon dioxide (CO2) and methane (CH4) fluxes and to provide the baseline needed to evaluate temporal changes. This is particularly relevant in arctic ecosystems where the large spatial heterogeneity prevents using nearby stations to build a time series in the GHG emissions, given that fluxes can vary substantially over the meter scale. This project will allow creating the longest running year\\PYZhy{}round Arctic eddy covariance network, and to standardize, upgrade, and apply the network to improve understanding of the long\\PYZhy{}term effects of climate variability and change on trace gas feedbacks from the Arctic. This project will make existing data more useful and relevant and will expand an already large user base. A special emphasis will be on the fall zero curtain period when an unfrozen soil layer hovers around 0°Celsius (C) supporting significant CO2 and CH4 releases to the atmosphere, and the entire cold season (Zona et al., 2016). Zero curtain processes plausibly explain how upland tundra can be a larger emitter of CH4 than low\\PYZhy{}lying, wet tundra, and how the cold seasons might emit more CH4 than the summer season (Zona et al., 2016, Commane et al., 2017). At present, however, cold season observations are too short to adequately test hypotheses concerning the controlling mechanisms or to develop understanding that allows us to predict, with confidence, future CO2 and CH4 fluxes form the Arctic. Five Arctic eddy covariance flux towers will be used to evaluate the long term changes in the CO2 and CH4 fluxes across three moisture environments in Barrow (recently renamed as Utqiaġvik) (CMDL (Climate Monitoring and Diagnostics Laboratory), BEO (Barrow Environmental Observatory), and BES (Biocomplexity Experiment South) towers) and a \\PYZti{}300km latitudinal gradient passing through Atqasuk (ATQ) and culminating in Ivotuk (IVO). These measurements are intended to be of sufficient duration and breadth to capture and interpret the effect of extreme and/or unexpected events on GHG fluxes in the Arctic. The support from this grant would allow expansion of the time series to a more than 20\\PYZhy{}year record of CO2 and 11\\PYZhy{}year record of CH4 fluxes, resulting in an unprecedented dataset, critical to refining our analytical and predictive ability of the controls of CH4 loss from the Arctic.}\\PY{l+s+s2}{\\PYZdq{}}\\PY{p}{,}\n",
       "\\PY{+w}{      }\\PY{l+s+s2}{\\PYZdq{}}\\PY{l+s+s2}{descriptionType}\\PY{l+s+s2}{\\PYZdq{}}\\PY{p}{:}\\PY{+w}{ }\\PY{l+s+s2}{\\PYZdq{}}\\PY{l+s+s2}{Abstract}\\PY{l+s+s2}{\\PYZdq{}}\n",
       "\\PY{+w}{    }\\PY{p}{\\PYZcb{}}\n",
       "\\PY{+w}{  }\\PY{p}{]}\\PY{p}{,}\n",
       "\\PY{+w}{  }\\PY{l+s+s2}{\\PYZdq{}}\\PY{l+s+s2}{geoLocations}\\PY{l+s+s2}{\\PYZdq{}}\\PY{p}{:}\\PY{+w}{ }\\PY{p}{[}\\PY{p}{]}\\PY{p}{,}\n",
       "\\PY{+w}{  }\\PY{l+s+s2}{\\PYZdq{}}\\PY{l+s+s2}{fundingReferences}\\PY{l+s+s2}{\\PYZdq{}}\\PY{p}{:}\\PY{+w}{ }\\PY{p}{[}\\PY{p}{]}\\PY{p}{,}\n",
       "\\PY{+w}{  }\\PY{l+s+s2}{\\PYZdq{}}\\PY{l+s+s2}{relatedIdentifiers}\\PY{l+s+s2}{\\PYZdq{}}\\PY{p}{:}\\PY{+w}{ }\\PY{p}{[}\\PY{p}{]}\\PY{p}{,}\n",
       "\\PY{+w}{  }\\PY{l+s+s2}{\\PYZdq{}}\\PY{l+s+s2}{relatedItems}\\PY{l+s+s2}{\\PYZdq{}}\\PY{p}{:}\\PY{+w}{ }\\PY{p}{[}\\PY{p}{]}\\PY{p}{,}\n",
       "\\PY{+w}{  }\\PY{l+s+s2}{\\PYZdq{}}\\PY{l+s+s2}{schemaVersion}\\PY{l+s+s2}{\\PYZdq{}}\\PY{p}{:}\\PY{+w}{ }\\PY{l+s+s2}{\\PYZdq{}}\\PY{l+s+s2}{http://datacite.org/schema/kernel\\PYZhy{}4}\\PY{l+s+s2}{\\PYZdq{}}\\PY{p}{,}\n",
       "\\PY{+w}{  }\\PY{l+s+s2}{\\PYZdq{}}\\PY{l+s+s2}{providerId}\\PY{l+s+s2}{\\PYZdq{}}\\PY{p}{:}\\PY{+w}{ }\\PY{l+s+s2}{\\PYZdq{}}\\PY{l+s+s2}{njqd}\\PY{l+s+s2}{\\PYZdq{}}\\PY{p}{,}\n",
       "\\PY{+w}{  }\\PY{l+s+s2}{\\PYZdq{}}\\PY{l+s+s2}{clientId}\\PY{l+s+s2}{\\PYZdq{}}\\PY{p}{:}\\PY{+w}{ }\\PY{l+s+s2}{\\PYZdq{}}\\PY{l+s+s2}{cdl.ucsb}\\PY{l+s+s2}{\\PYZdq{}}\\PY{p}{,}\n",
       "\\PY{+w}{  }\\PY{l+s+s2}{\\PYZdq{}}\\PY{l+s+s2}{agency}\\PY{l+s+s2}{\\PYZdq{}}\\PY{p}{:}\\PY{+w}{ }\\PY{l+s+s2}{\\PYZdq{}}\\PY{l+s+s2}{datacite}\\PY{l+s+s2}{\\PYZdq{}}\\PY{p}{,}\n",
       "\\PY{+w}{  }\\PY{l+s+s2}{\\PYZdq{}}\\PY{l+s+s2}{state}\\PY{l+s+s2}{\\PYZdq{}}\\PY{p}{:}\\PY{+w}{ }\\PY{l+s+s2}{\\PYZdq{}}\\PY{l+s+s2}{findable}\\PY{l+s+s2}{\\PYZdq{}}\n",
       "\\PY{p}{\\PYZcb{}}\n",
       "\\end{Verbatim}\n"
      ],
      "text/plain": [
       "{\n",
       "  \"id\": \"https://doi.org/10.18739/a20z70z1h\",\n",
       "  \"doi\": \"10.18739/A20Z70Z1H\",\n",
       "  \"url\": \"https://arcticdata.io/catalog/view/doi:10.18739/A20Z70Z1H\",\n",
       "  \"types\": {\n",
       "    \"ris\": \"DATA\",\n",
       "    \"bibtex\": \"misc\",\n",
       "    \"citeproc\": \"dataset\",\n",
       "    \"schemaOrg\": \"Dataset\",\n",
       "    \"resourceTypeGeneral\": \"Dataset\"\n",
       "  },\n",
       "  \"creators\": [\n",
       "    {\n",
       "      \"name\": \"Zona, Donatella\",\n",
       "      \"nameType\": \"Personal\",\n",
       "      \"givenName\": \"Donatella\",\n",
       "      \"familyName\": \"Zona\",\n",
       "      \"affiliation\": [\n",
       "        {\n",
       "          \"name\": \"San Diego State University\"\n",
       "        }\n",
       "      ],\n",
       "      \"nameIdentifiers\": [\n",
       "        {\n",
       "          \"schemeUri\": \"https://orcid.org\",\n",
       "          \"nameIdentifier\": \"https://orcid.org/0000-0002-0003-4839\",\n",
       "          \"nameIdentifierScheme\": \"ORCID\"\n",
       "        }\n",
       "      ]\n",
       "    }\n",
       "  ],\n",
       "  \"titles\": [\n",
       "    {\n",
       "      \"lang\": \"en\",\n",
       "      \"title\": \"Greenhouse gas flux measurements at the zero curtain, North Slope, Alaska, 2012-2024\"\n",
       "    }\n",
       "  ],\n",
       "  \"publisher\": {\n",
       "    \"name\": \"NSF Arctic Data Center\"\n",
       "  },\n",
       "  \"container\": {},\n",
       "  \"subjects\": [\n",
       "    {\n",
       "      \"lang\": \"en\",\n",
       "      \"subject\": \"carbon fluxes\"\n",
       "    },\n",
       "    {\n",
       "      \"lang\": \"en\",\n",
       "      \"subject\": \"methane fluxes\"\n",
       "    }\n",
       "  ],\n",
       "  \"contributors\": [],\n",
       "  \"dates\": [\n",
       "    {\n",
       "      \"date\": \"2024\",\n",
       "      \"dateType\": \"Issued\"\n",
       "    }\n",
       "  ],\n",
       "  \"publicationYear\": 2024,\n",
       "  \"language\": \"en\",\n",
       "  \"identifiers\": [],\n",
       "  \"sizes\": [],\n",
       "  \"formats\": [\n",
       "    \"text/xml\"\n",
       "  ],\n",
       "  \"rightsList\": [],\n",
       "  \"descriptions\": [\n",
       "    {\n",
       "      \"lang\": \"en\",\n",
       "      \"description\": \"Overview- This project proposes to create a long-term, year-round field observations to better understand the controls on greenhouse gas (GHG) emissions from the Arctic at time scales that will encompass significant climate change and variability. Research over decadal time frames is critical for understanding the effect of climate variability and change on carbon dioxide (CO2) and methane (CH4) fluxes and to provide the baseline needed to evaluate temporal changes. This is particularly relevant in arctic ecosystems where the large spatial heterogeneity prevents using nearby stations to build a time series in the GHG emissions, given that fluxes can vary substantially over the meter scale. This project will allow creating the longest running year-round Arctic eddy covariance network, and to standardize, upgrade, and apply the network to improve understanding of the long-term effects of climate variability and change on trace gas feedbacks from the Arctic. This project will make existing data more useful and relevant and will expand an already large user base. A special emphasis will be on the fall zero curtain period when an unfrozen soil layer hovers around 0°Celsius (C) supporting significant CO2 and CH4 releases to the atmosphere, and the entire cold season (Zona et al., 2016). Zero curtain processes plausibly explain how upland tundra can be a larger emitter of CH4 than low-lying, wet tundra, and how the cold seasons might emit more CH4 than the summer season (Zona et al., 2016, Commane et al., 2017). At present, however, cold season observations are too short to adequately test hypotheses concerning the controlling mechanisms or to develop understanding that allows us to predict, with confidence, future CO2 and CH4 fluxes form the Arctic. Five Arctic eddy covariance flux towers will be used to evaluate the long term changes in the CO2 and CH4 fluxes across three moisture environments in Barrow (recently renamed as Utqiaġvik) (CMDL (Climate Monitoring and Diagnostics Laboratory), BEO (Barrow Environmental Observatory), and BES (Biocomplexity Experiment South) towers) and a ~300km latitudinal gradient passing through Atqasuk (ATQ) and culminating in Ivotuk (IVO). These measurements are intended to be of sufficient duration and breadth to capture and interpret the effect of extreme and/or unexpected events on GHG fluxes in the Arctic. The support from this grant would allow expansion of the time series to a more than 20-year record of CO2 and 11-year record of CH4 fluxes, resulting in an unprecedented dataset, critical to refining our analytical and predictive ability of the controls of CH4 loss from the Arctic.\",\n",
       "      \"descriptionType\": \"Abstract\"\n",
       "    }\n",
       "  ],\n",
       "  \"geoLocations\": [],\n",
       "  \"fundingReferences\": [],\n",
       "  \"relatedIdentifiers\": [],\n",
       "  \"relatedItems\": [],\n",
       "  \"schemaVersion\": \"http://datacite.org/schema/kernel-4\",\n",
       "  \"providerId\": \"njqd\",\n",
       "  \"clientId\": \"cdl.ucsb\",\n",
       "  \"agency\": \"datacite\",\n",
       "  \"state\": \"findable\"\n",
       "}"
      ]
     },
     "execution_count": 13,
     "metadata": {},
     "output_type": "execute_result"
    }
   ],
   "source": [
    "headers = {\n",
    "    'Accept': 'application/vnd.datacite.datacite+json'\n",
    "}\n",
    "resp = requests.get(\"https://doi.org/10.18739/A20Z70Z1H\", headers = headers)\n",
    "Code(resp.text)"
   ]
  },
  {
   "cell_type": "markdown",
   "metadata": {},
   "source": [
    "Unlike UUIDs, URNs, and URIs, DOIs cannot be self-generated. The process of generating a DOI, sometimes called **minting**, is done via a *registration agency*. Registration agencies also define the required metadata. Current registration agencies include [Crossref]() and [Datacite](). These are membership-driven and fee-based organizations."
   ]
  },
  {
   "cell_type": "markdown",
   "metadata": {},
   "source": [
    "## Content-Based Identifiers\n",
    "\n",
    "The final type of identifier we explore here are content-based (or content-addressable) identifiers.  Unlike authority-based identifiers, content-based identifiers are derived from the data or content that they refer to. Content-based identifiers serve multiple purposes: they identify the same object, can serve as a means to version data, and can be used to validate content. "
   ]
  },
  {
   "cell_type": "markdown",
   "metadata": {},
   "source": [
    "Returning again to the DataONE example above: https://arcticdata.io/catalog/view/doi:10.18739/A20Z70Z1H, recall that the file `CMDL_fluxes_data_readme.csv` was assigned UUID `urn:uuid:988f6846-5378-45d2-9a15-8db398ea2d4a`, which we can use for resolution. Looking at the record for the file, we notice that it contains an MD5 hash--used for validation purposes--with the value `09657a90ba2af3a1c31ec9d3c8f9c2a7`. The purpose of the hash is to enable the user to confirm that they have the correct file. MD5 is one of a number of commonly used hashing or digest algorithms.\n",
    "\n",
    "In the following example, we retrieve the file contents based on the UUID using the DataONE resolver and calculate the MD5 hash, which is the same as recorded in the metadata record."
   ]
  },
  {
   "cell_type": "code",
   "execution_count": 14,
   "metadata": {},
   "outputs": [
    {
     "data": {
      "text/plain": [
       "'09657a90ba2af3a1c31ec9d3c8f9c2a7'"
      ]
     },
     "execution_count": 14,
     "metadata": {},
     "output_type": "execute_result"
    }
   ],
   "source": [
    "import hashlib\n",
    "\n",
    "## UUID of CMDL_fluxes_data_readme.csv\n",
    "uuid  = \"urn:uuid:988f6846-5378-45d2-9a15-8db398ea2d4a\"\n",
    "response = requests.get(f\"https://cn.dataone.org/cn/v2/resolve/{uuid}\")\n",
    "\n",
    "hashlib.md5(response.content).hexdigest()\n"
   ]
  },
  {
   "cell_type": "markdown",
   "metadata": {},
   "source": [
    "Now that we are familiar with UUIDs, URNs, URLs, DOIs, and content-based identifiers, let's consider the above DataONE example in detail:\n",
    "\n",
    "> Donatella Zona. (2023). Greenhouse gas flux measurements at the zero curtain, North Slope, Alaska, 2012-2023. Arctic Data Center. [doi:10.18739/A20Z70Z1H](https://doi.org/10.18739/A20Z70Z1H), version: urn:uuid:23d7c5c2-e695-4aae-97c9-e84fa41368ba.\n",
    "\n",
    "We see the following:\n",
    "* A dataset is assigned a DOI (via Datacite)\n",
    "* A dataset is also identified within DataONE by a UUID (URN)\n",
    "* Each file in the dataset is assigned a UUID\n",
    "* DataONE operates a resolver (https://cn.dataone.org/cn/v2/resolve/) that can be used to get the contents of a file based on the UUID\n",
    "* Computed hashes (MD5 or SHA1) are also stored for each file for validation and integrity purposes "
   ]
  },
  {
   "cell_type": "markdown",
   "metadata": {},
   "source": [
    "Its has been proposed that, instead of assigning UUIDs and storing the computed hash for verification purposes, that the hash itself can be used as an identifier. While not commonly used in data curation, content-based identifiers are widely used in other systems. For example, the Git version control system uses the concept of `commit hashes` to identify every version of every change in the repository.  Object stores often store files named based on a hash of their contents for storage efficiency, preventing storage of duplicate copies."
   ]
  },
  {
   "cell_type": "markdown",
   "metadata": {},
   "source": [
    "## Summary\n",
    "\n"
   ]
  },
  {
   "cell_type": "markdown",
   "metadata": {},
   "source": [
    "Identifiers and identifier systems are both technical and social. Identifiers are standards that are generally implemented in software and often require significant technical infrastructure. Identifiers differ in a number of ways:\n",
    "* Authority-based, non-authority based, and content-based\n",
    "* Support for location resolution\n",
    "* Decoupling of content identification from content location (i.e., data can move without affecting resolvability)\n",
    "\n",
    "Simply using a persistent identifier (or what Kunze calls a *persistable* identifier) does not guarantee persistence. Social and organization infrastructure is still required to both correctly apply identifer schemes and ensure their persistence. Auditing of identifiers is still necessary."
   ]
  },
  {
   "cell_type": "markdown",
   "metadata": {},
   "source": [
    "## Discussion Questions\n"
   ]
  },
  {
   "cell_type": "markdown",
   "metadata": {},
   "source": [
    "Post your responses to the following questions to the Canvas discussion:\n",
    "* UUIDs can optionally be represented as URNs. What information does the URN format contain that the non-URN UUID format does not?\n",
    "* Describe two key differences between UUIDs and DOIs.\n",
    "* Given a dataset identified using the SHA-256 of its contents, what happens if the file changes?\n"
   ]
  }
 ],
 "metadata": {
  "kernelspec": {
   "display_name": "is477",
   "language": "python",
   "name": "python3"
  },
  "language_info": {
   "codemirror_mode": {
    "name": "ipython",
    "version": 3
   },
   "file_extension": ".py",
   "mimetype": "text/x-python",
   "name": "python",
   "nbconvert_exporter": "python",
   "pygments_lexer": "ipython3",
   "version": "3.11.5"
  }
 },
 "nbformat": 4,
 "nbformat_minor": 4
}
